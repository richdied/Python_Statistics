{
  "nbformat": 4,
  "nbformat_minor": 0,
  "metadata": {
    "colab": {
      "name": "008_Regression_Analysis.ipynb",
      "provenance": [],
      "collapsed_sections": [],
      "include_colab_link": true
    },
    "kernelspec": {
      "name": "python3",
      "display_name": "Python 3"
    }
  },
  "cells": [
    {
      "cell_type": "markdown",
      "metadata": {
        "id": "view-in-github",
        "colab_type": "text"
      },
      "source": [
        "<a href=\"https://colab.research.google.com/github/richdied/Python_Statistics/blob/main/008_Regression_Analysis.ipynb\" target=\"_parent\"><img src=\"https://colab.research.google.com/assets/colab-badge.svg\" alt=\"Open In Colab\"/></a>"
      ]
    },
    {
      "cell_type": "markdown",
      "metadata": {
        "id": "MEA5LKGYR9jU"
      },
      "source": [
        "# Regression Analysis"
      ]
    },
    {
      "cell_type": "code",
      "metadata": {
        "id": "RbPgODpVzdHI"
      },
      "source": [
        "import warnings\n",
        "warnings.filterwarnings('ignore')"
      ],
      "execution_count": null,
      "outputs": []
    },
    {
      "cell_type": "markdown",
      "metadata": {
        "id": "IUuMQTWokWOo"
      },
      "source": [
        "# I. 단일회귀분석"
      ]
    },
    {
      "cell_type": "markdown",
      "metadata": {
        "id": "WwreoN6ESqSL"
      },
      "source": [
        "> ## 1) Load Data"
      ]
    },
    {
      "cell_type": "code",
      "metadata": {
        "id": "a4baffKHNUgR",
        "colab": {
          "base_uri": "https://localhost:8080/"
        },
        "outputId": "689f29e7-feff-485a-dbb2-584aaf49a9c3"
      },
      "source": [
        "import pandas as pd\n",
        "\n",
        "url = 'https://raw.githubusercontent.com/rusita-ai/pyData/master/Galton.txt'\n",
        "DF = pd.read_table(url)\n",
        "\n",
        "DF.info()"
      ],
      "execution_count": null,
      "outputs": [
        {
          "output_type": "stream",
          "name": "stdout",
          "text": [
            "<class 'pandas.core.frame.DataFrame'>\n",
            "RangeIndex: 898 entries, 0 to 897\n",
            "Data columns (total 6 columns):\n",
            " #   Column  Non-Null Count  Dtype  \n",
            "---  ------  --------------  -----  \n",
            " 0   Family  898 non-null    object \n",
            " 1   Father  898 non-null    float64\n",
            " 2   Mother  898 non-null    float64\n",
            " 3   Gender  898 non-null    object \n",
            " 4   Height  898 non-null    float64\n",
            " 5   Kids    898 non-null    int64  \n",
            "dtypes: float64(3), int64(1), object(2)\n",
            "memory usage: 42.2+ KB\n"
          ]
        }
      ]
    },
    {
      "cell_type": "code",
      "metadata": {
        "id": "BRGrwQ9LNuX8",
        "colab": {
          "base_uri": "https://localhost:8080/",
          "height": 206
        },
        "outputId": "c3bce291-4cbd-41dc-9ac0-06e61e053377"
      },
      "source": [
        "DF.head()"
      ],
      "execution_count": null,
      "outputs": [
        {
          "output_type": "execute_result",
          "data": {
            "text/plain": [
              "  Family  Father  Mother Gender  Height  Kids\n",
              "0      1    78.5    67.0      M    73.2     4\n",
              "1      1    78.5    67.0      F    69.2     4\n",
              "2      1    78.5    67.0      F    69.0     4\n",
              "3      1    78.5    67.0      F    69.0     4\n",
              "4      2    75.5    66.5      M    73.5     4"
            ],
            "text/html": [
              "\n",
              "  <div id=\"df-6b933362-288a-47dd-91f1-656fa7895d49\">\n",
              "    <div class=\"colab-df-container\">\n",
              "      <div>\n",
              "<style scoped>\n",
              "    .dataframe tbody tr th:only-of-type {\n",
              "        vertical-align: middle;\n",
              "    }\n",
              "\n",
              "    .dataframe tbody tr th {\n",
              "        vertical-align: top;\n",
              "    }\n",
              "\n",
              "    .dataframe thead th {\n",
              "        text-align: right;\n",
              "    }\n",
              "</style>\n",
              "<table border=\"1\" class=\"dataframe\">\n",
              "  <thead>\n",
              "    <tr style=\"text-align: right;\">\n",
              "      <th></th>\n",
              "      <th>Family</th>\n",
              "      <th>Father</th>\n",
              "      <th>Mother</th>\n",
              "      <th>Gender</th>\n",
              "      <th>Height</th>\n",
              "      <th>Kids</th>\n",
              "    </tr>\n",
              "  </thead>\n",
              "  <tbody>\n",
              "    <tr>\n",
              "      <th>0</th>\n",
              "      <td>1</td>\n",
              "      <td>78.5</td>\n",
              "      <td>67.0</td>\n",
              "      <td>M</td>\n",
              "      <td>73.2</td>\n",
              "      <td>4</td>\n",
              "    </tr>\n",
              "    <tr>\n",
              "      <th>1</th>\n",
              "      <td>1</td>\n",
              "      <td>78.5</td>\n",
              "      <td>67.0</td>\n",
              "      <td>F</td>\n",
              "      <td>69.2</td>\n",
              "      <td>4</td>\n",
              "    </tr>\n",
              "    <tr>\n",
              "      <th>2</th>\n",
              "      <td>1</td>\n",
              "      <td>78.5</td>\n",
              "      <td>67.0</td>\n",
              "      <td>F</td>\n",
              "      <td>69.0</td>\n",
              "      <td>4</td>\n",
              "    </tr>\n",
              "    <tr>\n",
              "      <th>3</th>\n",
              "      <td>1</td>\n",
              "      <td>78.5</td>\n",
              "      <td>67.0</td>\n",
              "      <td>F</td>\n",
              "      <td>69.0</td>\n",
              "      <td>4</td>\n",
              "    </tr>\n",
              "    <tr>\n",
              "      <th>4</th>\n",
              "      <td>2</td>\n",
              "      <td>75.5</td>\n",
              "      <td>66.5</td>\n",
              "      <td>M</td>\n",
              "      <td>73.5</td>\n",
              "      <td>4</td>\n",
              "    </tr>\n",
              "  </tbody>\n",
              "</table>\n",
              "</div>\n",
              "      <button class=\"colab-df-convert\" onclick=\"convertToInteractive('df-6b933362-288a-47dd-91f1-656fa7895d49')\"\n",
              "              title=\"Convert this dataframe to an interactive table.\"\n",
              "              style=\"display:none;\">\n",
              "        \n",
              "  <svg xmlns=\"http://www.w3.org/2000/svg\" height=\"24px\"viewBox=\"0 0 24 24\"\n",
              "       width=\"24px\">\n",
              "    <path d=\"M0 0h24v24H0V0z\" fill=\"none\"/>\n",
              "    <path d=\"M18.56 5.44l.94 2.06.94-2.06 2.06-.94-2.06-.94-.94-2.06-.94 2.06-2.06.94zm-11 1L8.5 8.5l.94-2.06 2.06-.94-2.06-.94L8.5 2.5l-.94 2.06-2.06.94zm10 10l.94 2.06.94-2.06 2.06-.94-2.06-.94-.94-2.06-.94 2.06-2.06.94z\"/><path d=\"M17.41 7.96l-1.37-1.37c-.4-.4-.92-.59-1.43-.59-.52 0-1.04.2-1.43.59L10.3 9.45l-7.72 7.72c-.78.78-.78 2.05 0 2.83L4 21.41c.39.39.9.59 1.41.59.51 0 1.02-.2 1.41-.59l7.78-7.78 2.81-2.81c.8-.78.8-2.07 0-2.86zM5.41 20L4 18.59l7.72-7.72 1.47 1.35L5.41 20z\"/>\n",
              "  </svg>\n",
              "      </button>\n",
              "      \n",
              "  <style>\n",
              "    .colab-df-container {\n",
              "      display:flex;\n",
              "      flex-wrap:wrap;\n",
              "      gap: 12px;\n",
              "    }\n",
              "\n",
              "    .colab-df-convert {\n",
              "      background-color: #E8F0FE;\n",
              "      border: none;\n",
              "      border-radius: 50%;\n",
              "      cursor: pointer;\n",
              "      display: none;\n",
              "      fill: #1967D2;\n",
              "      height: 32px;\n",
              "      padding: 0 0 0 0;\n",
              "      width: 32px;\n",
              "    }\n",
              "\n",
              "    .colab-df-convert:hover {\n",
              "      background-color: #E2EBFA;\n",
              "      box-shadow: 0px 1px 2px rgba(60, 64, 67, 0.3), 0px 1px 3px 1px rgba(60, 64, 67, 0.15);\n",
              "      fill: #174EA6;\n",
              "    }\n",
              "\n",
              "    [theme=dark] .colab-df-convert {\n",
              "      background-color: #3B4455;\n",
              "      fill: #D2E3FC;\n",
              "    }\n",
              "\n",
              "    [theme=dark] .colab-df-convert:hover {\n",
              "      background-color: #434B5C;\n",
              "      box-shadow: 0px 1px 3px 1px rgba(0, 0, 0, 0.15);\n",
              "      filter: drop-shadow(0px 1px 2px rgba(0, 0, 0, 0.3));\n",
              "      fill: #FFFFFF;\n",
              "    }\n",
              "  </style>\n",
              "\n",
              "      <script>\n",
              "        const buttonEl =\n",
              "          document.querySelector('#df-6b933362-288a-47dd-91f1-656fa7895d49 button.colab-df-convert');\n",
              "        buttonEl.style.display =\n",
              "          google.colab.kernel.accessAllowed ? 'block' : 'none';\n",
              "\n",
              "        async function convertToInteractive(key) {\n",
              "          const element = document.querySelector('#df-6b933362-288a-47dd-91f1-656fa7895d49');\n",
              "          const dataTable =\n",
              "            await google.colab.kernel.invokeFunction('convertToInteractive',\n",
              "                                                     [key], {});\n",
              "          if (!dataTable) return;\n",
              "\n",
              "          const docLinkHtml = 'Like what you see? Visit the ' +\n",
              "            '<a target=\"_blank\" href=https://colab.research.google.com/notebooks/data_table.ipynb>data table notebook</a>'\n",
              "            + ' to learn more about interactive tables.';\n",
              "          element.innerHTML = '';\n",
              "          dataTable['output_type'] = 'display_data';\n",
              "          await google.colab.output.renderOutput(dataTable, element);\n",
              "          const docLink = document.createElement('div');\n",
              "          docLink.innerHTML = docLinkHtml;\n",
              "          element.appendChild(docLink);\n",
              "        }\n",
              "      </script>\n",
              "    </div>\n",
              "  </div>\n",
              "  "
            ]
          },
          "metadata": {},
          "execution_count": 3
        }
      ]
    },
    {
      "cell_type": "markdown",
      "metadata": {
        "id": "hnNhHpJnSuRj"
      },
      "source": [
        "> ## 2) 남자 데이터만 분리"
      ]
    },
    {
      "cell_type": "code",
      "metadata": {
        "id": "3w_8FgJpOGSa",
        "colab": {
          "base_uri": "https://localhost:8080/",
          "height": 206
        },
        "outputId": "7732f078-209c-451c-ae19-d158bc076098"
      },
      "source": [
        "DFS = DF.loc[DF.Gender == 'M', :]\n",
        "\n",
        "DFS.head()"
      ],
      "execution_count": null,
      "outputs": [
        {
          "output_type": "execute_result",
          "data": {
            "text/plain": [
              "   Family  Father  Mother Gender  Height  Kids\n",
              "0       1    78.5    67.0      M    73.2     4\n",
              "4       2    75.5    66.5      M    73.5     4\n",
              "5       2    75.5    66.5      M    72.5     4\n",
              "8       3    75.0    64.0      M    71.0     2\n",
              "10      4    75.0    64.0      M    70.5     5"
            ],
            "text/html": [
              "\n",
              "  <div id=\"df-d3fe5517-7809-409c-99c0-187eb22488ec\">\n",
              "    <div class=\"colab-df-container\">\n",
              "      <div>\n",
              "<style scoped>\n",
              "    .dataframe tbody tr th:only-of-type {\n",
              "        vertical-align: middle;\n",
              "    }\n",
              "\n",
              "    .dataframe tbody tr th {\n",
              "        vertical-align: top;\n",
              "    }\n",
              "\n",
              "    .dataframe thead th {\n",
              "        text-align: right;\n",
              "    }\n",
              "</style>\n",
              "<table border=\"1\" class=\"dataframe\">\n",
              "  <thead>\n",
              "    <tr style=\"text-align: right;\">\n",
              "      <th></th>\n",
              "      <th>Family</th>\n",
              "      <th>Father</th>\n",
              "      <th>Mother</th>\n",
              "      <th>Gender</th>\n",
              "      <th>Height</th>\n",
              "      <th>Kids</th>\n",
              "    </tr>\n",
              "  </thead>\n",
              "  <tbody>\n",
              "    <tr>\n",
              "      <th>0</th>\n",
              "      <td>1</td>\n",
              "      <td>78.5</td>\n",
              "      <td>67.0</td>\n",
              "      <td>M</td>\n",
              "      <td>73.2</td>\n",
              "      <td>4</td>\n",
              "    </tr>\n",
              "    <tr>\n",
              "      <th>4</th>\n",
              "      <td>2</td>\n",
              "      <td>75.5</td>\n",
              "      <td>66.5</td>\n",
              "      <td>M</td>\n",
              "      <td>73.5</td>\n",
              "      <td>4</td>\n",
              "    </tr>\n",
              "    <tr>\n",
              "      <th>5</th>\n",
              "      <td>2</td>\n",
              "      <td>75.5</td>\n",
              "      <td>66.5</td>\n",
              "      <td>M</td>\n",
              "      <td>72.5</td>\n",
              "      <td>4</td>\n",
              "    </tr>\n",
              "    <tr>\n",
              "      <th>8</th>\n",
              "      <td>3</td>\n",
              "      <td>75.0</td>\n",
              "      <td>64.0</td>\n",
              "      <td>M</td>\n",
              "      <td>71.0</td>\n",
              "      <td>2</td>\n",
              "    </tr>\n",
              "    <tr>\n",
              "      <th>10</th>\n",
              "      <td>4</td>\n",
              "      <td>75.0</td>\n",
              "      <td>64.0</td>\n",
              "      <td>M</td>\n",
              "      <td>70.5</td>\n",
              "      <td>5</td>\n",
              "    </tr>\n",
              "  </tbody>\n",
              "</table>\n",
              "</div>\n",
              "      <button class=\"colab-df-convert\" onclick=\"convertToInteractive('df-d3fe5517-7809-409c-99c0-187eb22488ec')\"\n",
              "              title=\"Convert this dataframe to an interactive table.\"\n",
              "              style=\"display:none;\">\n",
              "        \n",
              "  <svg xmlns=\"http://www.w3.org/2000/svg\" height=\"24px\"viewBox=\"0 0 24 24\"\n",
              "       width=\"24px\">\n",
              "    <path d=\"M0 0h24v24H0V0z\" fill=\"none\"/>\n",
              "    <path d=\"M18.56 5.44l.94 2.06.94-2.06 2.06-.94-2.06-.94-.94-2.06-.94 2.06-2.06.94zm-11 1L8.5 8.5l.94-2.06 2.06-.94-2.06-.94L8.5 2.5l-.94 2.06-2.06.94zm10 10l.94 2.06.94-2.06 2.06-.94-2.06-.94-.94-2.06-.94 2.06-2.06.94z\"/><path d=\"M17.41 7.96l-1.37-1.37c-.4-.4-.92-.59-1.43-.59-.52 0-1.04.2-1.43.59L10.3 9.45l-7.72 7.72c-.78.78-.78 2.05 0 2.83L4 21.41c.39.39.9.59 1.41.59.51 0 1.02-.2 1.41-.59l7.78-7.78 2.81-2.81c.8-.78.8-2.07 0-2.86zM5.41 20L4 18.59l7.72-7.72 1.47 1.35L5.41 20z\"/>\n",
              "  </svg>\n",
              "      </button>\n",
              "      \n",
              "  <style>\n",
              "    .colab-df-container {\n",
              "      display:flex;\n",
              "      flex-wrap:wrap;\n",
              "      gap: 12px;\n",
              "    }\n",
              "\n",
              "    .colab-df-convert {\n",
              "      background-color: #E8F0FE;\n",
              "      border: none;\n",
              "      border-radius: 50%;\n",
              "      cursor: pointer;\n",
              "      display: none;\n",
              "      fill: #1967D2;\n",
              "      height: 32px;\n",
              "      padding: 0 0 0 0;\n",
              "      width: 32px;\n",
              "    }\n",
              "\n",
              "    .colab-df-convert:hover {\n",
              "      background-color: #E2EBFA;\n",
              "      box-shadow: 0px 1px 2px rgba(60, 64, 67, 0.3), 0px 1px 3px 1px rgba(60, 64, 67, 0.15);\n",
              "      fill: #174EA6;\n",
              "    }\n",
              "\n",
              "    [theme=dark] .colab-df-convert {\n",
              "      background-color: #3B4455;\n",
              "      fill: #D2E3FC;\n",
              "    }\n",
              "\n",
              "    [theme=dark] .colab-df-convert:hover {\n",
              "      background-color: #434B5C;\n",
              "      box-shadow: 0px 1px 3px 1px rgba(0, 0, 0, 0.15);\n",
              "      filter: drop-shadow(0px 1px 2px rgba(0, 0, 0, 0.3));\n",
              "      fill: #FFFFFF;\n",
              "    }\n",
              "  </style>\n",
              "\n",
              "      <script>\n",
              "        const buttonEl =\n",
              "          document.querySelector('#df-d3fe5517-7809-409c-99c0-187eb22488ec button.colab-df-convert');\n",
              "        buttonEl.style.display =\n",
              "          google.colab.kernel.accessAllowed ? 'block' : 'none';\n",
              "\n",
              "        async function convertToInteractive(key) {\n",
              "          const element = document.querySelector('#df-d3fe5517-7809-409c-99c0-187eb22488ec');\n",
              "          const dataTable =\n",
              "            await google.colab.kernel.invokeFunction('convertToInteractive',\n",
              "                                                     [key], {});\n",
              "          if (!dataTable) return;\n",
              "\n",
              "          const docLinkHtml = 'Like what you see? Visit the ' +\n",
              "            '<a target=\"_blank\" href=https://colab.research.google.com/notebooks/data_table.ipynb>data table notebook</a>'\n",
              "            + ' to learn more about interactive tables.';\n",
              "          element.innerHTML = '';\n",
              "          dataTable['output_type'] = 'display_data';\n",
              "          await google.colab.output.renderOutput(dataTable, element);\n",
              "          const docLink = document.createElement('div');\n",
              "          docLink.innerHTML = docLinkHtml;\n",
              "          element.appendChild(docLink);\n",
              "        }\n",
              "      </script>\n",
              "    </div>\n",
              "  </div>\n",
              "  "
            ]
          },
          "metadata": {},
          "execution_count": 4
        }
      ]
    },
    {
      "cell_type": "markdown",
      "metadata": {
        "id": "bzgLSFDfS0vs"
      },
      "source": [
        "> ## 3) pearson 상관계수"
      ]
    },
    {
      "cell_type": "code",
      "metadata": {
        "id": "bbmEeuJ4NwIe",
        "colab": {
          "base_uri": "https://localhost:8080/"
        },
        "outputId": "70e90132-c4ab-4993-b219-a1b68e016d7f"
      },
      "source": [
        "from scipy import stats\n",
        "\n",
        "stats.pearsonr(DFS.Father, DFS.Height)[0]"
      ],
      "execution_count": null,
      "outputs": [
        {
          "output_type": "execute_result",
          "data": {
            "text/plain": [
              "0.3913173581417901"
            ]
          },
          "metadata": {},
          "execution_count": 5
        }
      ]
    },
    {
      "cell_type": "markdown",
      "metadata": {
        "id": "t1FNqJtLS5-b"
      },
      "source": [
        "> ## 4) 회귀선 시각화"
      ]
    },
    {
      "cell_type": "code",
      "metadata": {
        "id": "sNpc_NMJO5o3",
        "colab": {
          "base_uri": "https://localhost:8080/",
          "height": 334
        },
        "outputId": "4e1df15d-6ebc-403b-97ea-a727448e2fc1"
      },
      "source": [
        "import matplotlib.pyplot as plt\n",
        "import seaborn as sns\n",
        "\n",
        "plt.figure(figsize = (7, 5))\n",
        "sns.regplot(x = DFS.Father, y = DFS.Height,\n",
        "            line_kws = {'color':'red'},\n",
        "            scatter_kws = {'edgecolor' : 'white'})\n",
        "plt.show()"
      ],
      "execution_count": null,
      "outputs": [
        {
          "output_type": "display_data",
          "data": {
            "text/plain": [
              "<Figure size 504x360 with 1 Axes>"
            ],
            "image/png": "[encoded data removed]"
          },
          "metadata": {
            "needs_background": "light"
          }
        }
      ]
    },
    {
      "cell_type": "markdown",
      "metadata": {
        "id": "vG-vK1IMS_GV"
      },
      "source": [
        "> ## 5) Modeling"
      ]
    },
    {
      "cell_type": "code",
      "metadata": {
        "id": "rfQwdgr-PO4a"
      },
      "source": [
        "import statsmodels.formula.api as smf\n",
        "\n",
        "Model_lm = smf.ols(formula = 'Height ~ Father',\n",
        "                   data = DFS).fit()"
      ],
      "execution_count": null,
      "outputs": []
    },
    {
      "cell_type": "markdown",
      "metadata": {
        "id": "hfXjdnvlTIDE"
      },
      "source": [
        "> ## 6) Model Summary\n",
        "\n",
        "* 잔차(residual) 검증\n",
        " - Prob(Omnibus) & Prob(JB) : 0.05보다 크면 정규분포\n",
        " - 왜도(Skew) : 정규분포는 '0', '0'보다 크면 오른쪽 자락이 길어짐\n",
        " - 첨도(Kurtosis) : 정규분포는 '3'\n",
        " - Durbin-Watson : 잔차의 자기상관 체크 지표 '2' 전후"
      ]
    },
    {
      "cell_type": "code",
      "metadata": {
        "id": "p-WhCZGrROKw",
        "colab": {
          "base_uri": "https://localhost:8080/",
          "height": 478
        },
        "outputId": "49fe5759-e647-4409-d069-7f8df5479725"
      },
      "source": [
        "Model_lm.summary(alpha = 0.05)"
      ],
      "execution_count": null,
      "outputs": [
        {
          "output_type": "execute_result",
          "data": {
            "text/plain": [
              "<class 'statsmodels.iolib.summary.Summary'>\n",
              "\"\"\"\n",
              "                            OLS Regression Results                            \n",
              "==============================================================================\n",
              "Dep. Variable:                 Height   R-squared:                       0.153\n",
              "Model:                            OLS   Adj. R-squared:                  0.151\n",
              "Method:                 Least Squares   F-statistic:                     83.72\n",
              "Date:                Wed, 16 Mar 2022   Prob (F-statistic):           1.82e-18\n",
              "Time:                        01:32:27   Log-Likelihood:                -1070.6\n",
              "No. Observations:                 465   AIC:                             2145.\n",
              "Df Residuals:                     463   BIC:                             2153.\n",
              "Df Model:                           1                                         \n",
              "Covariance Type:            nonrobust                                         \n",
              "==============================================================================\n",
              "                 coef    std err          t      P>|t|      [0.025      0.975]\n",
              "------------------------------------------------------------------------------\n",
              "Intercept     38.2589      3.387     11.297      0.000      31.604      44.914\n",
              "Father         0.4477      0.049      9.150      0.000       0.352       0.544\n",
              "==============================================================================\n",
              "Omnibus:                        8.699   Durbin-Watson:                   1.481\n",
              "Prob(Omnibus):                  0.013   Jarque-Bera (JB):               13.007\n",
              "Skew:                          -0.112   Prob(JB):                      0.00150\n",
              "Kurtosis:                       3.788   Cond. No.                     2.09e+03\n",
              "==============================================================================\n",
              "\n",
              "Warnings:\n",
              "[1] Standard Errors assume that the covariance matrix of the errors is correctly specified.\n",
              "[2] The condition number is large, 2.09e+03. This might indicate that there are\n",
              "strong multicollinearity or other numerical problems.\n",
              "\"\"\""
            ],
            "text/html": [
              "<table class=\"simpletable\">\n",
              "<caption>OLS Regression Results</caption>\n",
              "<tr>\n",
              "  <th>Dep. Variable:</th>         <td>Height</td>      <th>  R-squared:         </th> <td>   0.153</td>\n",
              "</tr>\n",
              "<tr>\n",
              "  <th>Model:</th>                   <td>OLS</td>       <th>  Adj. R-squared:    </th> <td>   0.151</td>\n",
              "</tr>\n",
              "<tr>\n",
              "  <th>Method:</th>             <td>Least Squares</td>  <th>  F-statistic:       </th> <td>   83.72</td>\n",
              "</tr>\n",
              "<tr>\n",
              "  <th>Date:</th>             <td>Wed, 16 Mar 2022</td> <th>  Prob (F-statistic):</th> <td>1.82e-18</td>\n",
              "</tr>\n",
              "<tr>\n",
              "  <th>Time:</th>                 <td>01:32:27</td>     <th>  Log-Likelihood:    </th> <td> -1070.6</td>\n",
              "</tr>\n",
              "<tr>\n",
              "  <th>No. Observations:</th>      <td>   465</td>      <th>  AIC:               </th> <td>   2145.</td>\n",
              "</tr>\n",
              "<tr>\n",
              "  <th>Df Residuals:</th>          <td>   463</td>      <th>  BIC:               </th> <td>   2153.</td>\n",
              "</tr>\n",
              "<tr>\n",
              "  <th>Df Model:</th>              <td>     1</td>      <th>                     </th>     <td> </td>   \n",
              "</tr>\n",
              "<tr>\n",
              "  <th>Covariance Type:</th>      <td>nonrobust</td>    <th>                     </th>     <td> </td>   \n",
              "</tr>\n",
              "</table>\n",
              "<table class=\"simpletable\">\n",
              "<tr>\n",
              "      <td></td>         <th>coef</th>     <th>std err</th>      <th>t</th>      <th>P>|t|</th>  <th>[0.025</th>    <th>0.975]</th>  \n",
              "</tr>\n",
              "<tr>\n",
              "  <th>Intercept</th> <td>   38.2589</td> <td>    3.387</td> <td>   11.297</td> <td> 0.000</td> <td>   31.604</td> <td>   44.914</td>\n",
              "</tr>\n",
              "<tr>\n",
              "  <th>Father</th>    <td>    0.4477</td> <td>    0.049</td> <td>    9.150</td> <td> 0.000</td> <td>    0.352</td> <td>    0.544</td>\n",
              "</tr>\n",
              "</table>\n",
              "<table class=\"simpletable\">\n",
              "<tr>\n",
              "  <th>Omnibus:</th>       <td> 8.699</td> <th>  Durbin-Watson:     </th> <td>   1.481</td>\n",
              "</tr>\n",
              "<tr>\n",
              "  <th>Prob(Omnibus):</th> <td> 0.013</td> <th>  Jarque-Bera (JB):  </th> <td>  13.007</td>\n",
              "</tr>\n",
              "<tr>\n",
              "  <th>Skew:</th>          <td>-0.112</td> <th>  Prob(JB):          </th> <td> 0.00150</td>\n",
              "</tr>\n",
              "<tr>\n",
              "  <th>Kurtosis:</th>      <td> 3.788</td> <th>  Cond. No.          </th> <td>2.09e+03</td>\n",
              "</tr>\n",
              "</table><br/><br/>Warnings:<br/>[1] Standard Errors assume that the covariance matrix of the errors is correctly specified.<br/>[2] The condition number is large, 2.09e+03. This might indicate that there are<br/>strong multicollinearity or other numerical problems."
            ]
          },
          "metadata": {},
          "execution_count": 8
        }
      ]
    },
    {
      "cell_type": "markdown",
      "metadata": {
        "id": "cGNhj6stdDkA"
      },
      "source": [
        "# II. 모델의 선형성"
      ]
    },
    {
      "cell_type": "markdown",
      "metadata": {
        "id": "4snMyJ5BCO0B"
      },
      "source": [
        "> ## 1) 예측값(fitted) 계산"
      ]
    },
    {
      "cell_type": "code",
      "metadata": {
        "id": "hciexEJSRZga"
      },
      "source": [
        "fitted = Model_lm.predict(DFS.Father)"
      ],
      "execution_count": null,
      "outputs": []
    },
    {
      "cell_type": "markdown",
      "metadata": {
        "id": "GqtzX1GPCTsa"
      },
      "source": [
        "> ## 2) 잔차(residual) 계산\n",
        "\n",
        "* 실제값과 예측값의 차이"
      ]
    },
    {
      "cell_type": "code",
      "metadata": {
        "id": "kQbKK__mb_jl"
      },
      "source": [
        "residual = DFS.Height - fitted"
      ],
      "execution_count": null,
      "outputs": []
    },
    {
      "cell_type": "markdown",
      "metadata": {
        "id": "NhMlHe3PCXjJ"
      },
      "source": [
        "> ## 3) 예측값과 잔차 비교\n",
        "\n",
        "* 모든 예측값에서 잔차가 비슷하게 있어야 함\n",
        "* 잔차의 추세 : 빨간실선\n",
        "* 빨간실선이 회색점선을 크게 벗어난다면 예측값에 따라 잔차가 크게 달라지는 것을 의미"
      ]
    },
    {
      "cell_type": "code",
      "metadata": {
        "id": "PBw13IKJcKCW",
        "colab": {
          "base_uri": "https://localhost:8080/",
          "height": 266
        },
        "outputId": "d511d04e-52d2-413b-910d-fae6bdcbdc92"
      },
      "source": [
        "sns.regplot(fitted, residual, \n",
        "            lowess = True, \n",
        "            line_kws = {'color':'red'})\n",
        "plt.plot([fitted.min(), fitted.max()], \n",
        "         [0, 0], '--', color = 'gray')\n",
        "plt.show()"
      ],
      "execution_count": null,
      "outputs": [
        {
          "output_type": "display_data",
          "data": {
            "text/plain": [
              "<Figure size 432x288 with 1 Axes>"
            ],
            "image/png": "[encoded data removed]"
          },
          "metadata": {
            "needs_background": "light"
          }
        }
      ]
    },
    {
      "cell_type": "markdown",
      "metadata": {
        "id": "umhDeyRPSMkZ"
      },
      "source": [
        "# III. 잔차분석"
      ]
    },
    {
      "cell_type": "markdown",
      "metadata": {
        "id": "BQwdJeWbdw_e"
      },
      "source": [
        "> ## 1) 잔차의 정규성\n",
        "\n",
        "* 잔차가 정규분포를 따른다는 가정 검증"
      ]
    },
    {
      "cell_type": "code",
      "metadata": {
        "id": "zarcFBs5RYBr"
      },
      "source": [
        "import scipy.stats\n",
        "\n",
        "sr = scipy.stats.zscore(residual)\n",
        "(x, y), _ = scipy.stats.probplot(sr)"
      ],
      "execution_count": null,
      "outputs": []
    },
    {
      "cell_type": "markdown",
      "metadata": {
        "id": "RKlVrNxKZnup"
      },
      "source": [
        "* Q-Q 플롯\n",
        " * 잔차가 정규분포를 띄면 Q-Q 플롯에서 점들이 점선을 따라 배치"
      ]
    },
    {
      "cell_type": "code",
      "metadata": {
        "id": "_gwnhi3rdnFi",
        "colab": {
          "base_uri": "https://localhost:8080/",
          "height": 265
        },
        "outputId": "dc615be1-229a-4232-b6b2-bafbae9684cb"
      },
      "source": [
        "sns.scatterplot(x, y)\n",
        "plt.plot([-3, 3], [-3, 3], '--', color = 'grey')\n",
        "plt.show()"
      ],
      "execution_count": null,
      "outputs": [
        {
          "output_type": "display_data",
          "data": {
            "text/plain": [
              "<Figure size 432x288 with 1 Axes>"
            ],
            "image/png": "[encoded data removed]"
          },
          "metadata": {
            "needs_background": "light"
          }
        }
      ]
    },
    {
      "cell_type": "markdown",
      "metadata": {
        "id": "fo6DJAf1ZtcD"
      },
      "source": [
        "* shapiro Test\n",
        " * p값이 0.05보다 작아 잔차의 정규성을 따른다는 귀무가설을 기각\n",
        " * 유의수준 5%에서 잔차의 정규성 위반"
      ]
    },
    {
      "cell_type": "code",
      "metadata": {
        "id": "k1qbvgZXdq5d",
        "colab": {
          "base_uri": "https://localhost:8080/"
        },
        "outputId": "613cf4e7-7301-434b-ad6c-fdd9be064f6f"
      },
      "source": [
        "scipy.stats.shapiro(residual)[1]"
      ],
      "execution_count": null,
      "outputs": [
        {
          "output_type": "execute_result",
          "data": {
            "text/plain": [
              "0.04990636184811592"
            ]
          },
          "metadata": {},
          "execution_count": 14
        }
      ]
    },
    {
      "cell_type": "markdown",
      "metadata": {
        "id": "2PmhH_53xXzB"
      },
      "source": [
        "* Residual Visualization"
      ]
    },
    {
      "cell_type": "code",
      "metadata": {
        "colab": {
          "base_uri": "https://localhost:8080/",
          "height": 265
        },
        "id": "OyNo5q3kxNs8",
        "outputId": "b4603d43-85a1-4f1b-e432-de8faaba2565"
      },
      "source": [
        "sns.distplot(residual)\n",
        "plt.show()"
      ],
      "execution_count": null,
      "outputs": [
        {
          "output_type": "display_data",
          "data": {
            "text/plain": [
              "<Figure size 432x288 with 1 Axes>"
            ],
            "image/png": "[encoded data removed]"
          },
          "metadata": {
            "needs_background": "light"
          }
        }
      ]
    },
    {
      "cell_type": "markdown",
      "metadata": {
        "id": "KazMYYa1dyWF"
      },
      "source": [
        "> ## 2) 잔차의 등분산성\n",
        "\n",
        "* 예측된 값이 크던 작던, 모든 값들에 대하여 잔차의 분산이 동일하다는 가정\n",
        " * 예측값(가로축)에 따라 잔차가 어떻게 달라지는지 시각화\n",
        " * 빨간실선이 수평선을 그리는 것이 이상적"
      ]
    },
    {
      "cell_type": "code",
      "metadata": {
        "id": "uiH4YDoFdvPe",
        "colab": {
          "base_uri": "https://localhost:8080/",
          "height": 265
        },
        "outputId": "a80ebf21-4739-483f-c104-2ee862b4f4ce"
      },
      "source": [
        "import numpy as np\n",
        "\n",
        "sns.regplot(fitted, \n",
        "            np.sqrt(np.abs(sr)), \n",
        "            lowess = True, \n",
        "            line_kws = {'color': 'red'})\n",
        "plt.show()"
      ],
      "execution_count": null,
      "outputs": [
        {
          "output_type": "display_data",
          "data": {
            "text/plain": [
              "<Figure size 432x288 with 1 Axes>"
            ],
            "image/png": "[encoded data removed]"
          },
          "metadata": {
            "needs_background": "light"
          }
        }
      ]
    },
    {
      "cell_type": "markdown",
      "metadata": {
        "id": "72StqMkCEjdh"
      },
      "source": [
        "> ## 3) 잔차의 독립성\n",
        "\n",
        "* 회귀분석에서 잔차는 정규성, 등분산성 그리고 독립성을 가지는 것으로 가정\n",
        "* 자료 수집 시 Random Sampling을 하였다면, 잔차의 독립성은 만족하는 것으로 봄"
      ]
    },
    {
      "cell_type": "markdown",
      "metadata": {
        "id": "MSvua3ted9DF"
      },
      "source": [
        "> ## 4) 극단값\n",
        "\n",
        "* Cook's distance\n",
        " * 극단값을 나타내는 지표"
      ]
    },
    {
      "cell_type": "code",
      "metadata": {
        "id": "sCuHHPS4d6FO"
      },
      "source": [
        "from statsmodels.stats.outliers_influence import OLSInfluence\n",
        "\n",
        "cd, _ = OLSInfluence(Model_lm).cooks_distance"
      ],
      "execution_count": null,
      "outputs": []
    },
    {
      "cell_type": "markdown",
      "metadata": {
        "id": "wGJeyBrLa3-B"
      },
      "source": [
        "* 59번자료가 예측에서 많이 벗어남을 확인"
      ]
    },
    {
      "cell_type": "code",
      "metadata": {
        "id": "9keaekwseEye",
        "colab": {
          "base_uri": "https://localhost:8080/"
        },
        "outputId": "14e4a5d8-d099-4fbe-bde2-4a12b874c1e2"
      },
      "source": [
        "cd.sort_values(ascending = False).head()"
      ],
      "execution_count": null,
      "outputs": [
        {
          "output_type": "execute_result",
          "data": {
            "text/plain": [
              "59     0.050149\n",
              "22     0.026499\n",
              "868    0.023930\n",
              "17     0.020738\n",
              "125    0.019052\n",
              "dtype: float64"
            ]
          },
          "metadata": {},
          "execution_count": 18
        }
      ]
    },
    {
      "cell_type": "markdown",
      "metadata": {
        "id": "ygZ127nskaj3"
      },
      "source": [
        "# IV. 다중회귀분석"
      ]
    },
    {
      "cell_type": "markdown",
      "metadata": {
        "id": "rz1rHD4Qb5wh"
      },
      "source": [
        "> ## 1) Load Data"
      ]
    },
    {
      "cell_type": "code",
      "metadata": {
        "id": "oTG3dMLqkcbP"
      },
      "source": [
        "import seaborn as sns"
      ],
      "execution_count": null,
      "outputs": []
    },
    {
      "cell_type": "code",
      "metadata": {
        "id": "A7C1KzPIkjWw",
        "colab": {
          "base_uri": "https://localhost:8080/"
        },
        "outputId": "d60fe16a-6c4d-4f9d-8aa2-bd486a57f0de"
      },
      "source": [
        "DF2 = sns.load_dataset('iris')\n",
        "\n",
        "DF2.info()"
      ],
      "execution_count": null,
      "outputs": [
        {
          "output_type": "stream",
          "name": "stdout",
          "text": [
            "<class 'pandas.core.frame.DataFrame'>\n",
            "RangeIndex: 150 entries, 0 to 149\n",
            "Data columns (total 5 columns):\n",
            " #   Column        Non-Null Count  Dtype  \n",
            "---  ------        --------------  -----  \n",
            " 0   sepal_length  150 non-null    float64\n",
            " 1   sepal_width   150 non-null    float64\n",
            " 2   petal_length  150 non-null    float64\n",
            " 3   petal_width   150 non-null    float64\n",
            " 4   species       150 non-null    object \n",
            "dtypes: float64(4), object(1)\n",
            "memory usage: 6.0+ KB\n"
          ]
        }
      ]
    },
    {
      "cell_type": "code",
      "metadata": {
        "id": "0d1NhwuHkpm3",
        "colab": {
          "base_uri": "https://localhost:8080/",
          "height": 206
        },
        "outputId": "cfaea8a6-f21d-41d4-838c-4e8f5a0a15d4"
      },
      "source": [
        "DF2.head()"
      ],
      "execution_count": null,
      "outputs": [
        {
          "output_type": "execute_result",
          "data": {
            "text/plain": [
              "   sepal_length  sepal_width  petal_length  petal_width species\n",
              "0           5.1          3.5           1.4          0.2  setosa\n",
              "1           4.9          3.0           1.4          0.2  setosa\n",
              "2           4.7          3.2           1.3          0.2  setosa\n",
              "3           4.6          3.1           1.5          0.2  setosa\n",
              "4           5.0          3.6           1.4          0.2  setosa"
            ],
            "text/html": [
              "\n",
              "  <div id=\"df-05d79747-cde6-4161-872a-44cd7acb7fa4\">\n",
              "    <div class=\"colab-df-container\">\n",
              "      <div>\n",
              "<style scoped>\n",
              "    .dataframe tbody tr th:only-of-type {\n",
              "        vertical-align: middle;\n",
              "    }\n",
              "\n",
              "    .dataframe tbody tr th {\n",
              "        vertical-align: top;\n",
              "    }\n",
              "\n",
              "    .dataframe thead th {\n",
              "        text-align: right;\n",
              "    }\n",
              "</style>\n",
              "<table border=\"1\" class=\"dataframe\">\n",
              "  <thead>\n",
              "    <tr style=\"text-align: right;\">\n",
              "      <th></th>\n",
              "      <th>sepal_length</th>\n",
              "      <th>sepal_width</th>\n",
              "      <th>petal_length</th>\n",
              "      <th>petal_width</th>\n",
              "      <th>species</th>\n",
              "    </tr>\n",
              "  </thead>\n",
              "  <tbody>\n",
              "    <tr>\n",
              "      <th>0</th>\n",
              "      <td>5.1</td>\n",
              "      <td>3.5</td>\n",
              "      <td>1.4</td>\n",
              "      <td>0.2</td>\n",
              "      <td>setosa</td>\n",
              "    </tr>\n",
              "    <tr>\n",
              "      <th>1</th>\n",
              "      <td>4.9</td>\n",
              "      <td>3.0</td>\n",
              "      <td>1.4</td>\n",
              "      <td>0.2</td>\n",
              "      <td>setosa</td>\n",
              "    </tr>\n",
              "    <tr>\n",
              "      <th>2</th>\n",
              "      <td>4.7</td>\n",
              "      <td>3.2</td>\n",
              "      <td>1.3</td>\n",
              "      <td>0.2</td>\n",
              "      <td>setosa</td>\n",
              "    </tr>\n",
              "    <tr>\n",
              "      <th>3</th>\n",
              "      <td>4.6</td>\n",
              "      <td>3.1</td>\n",
              "      <td>1.5</td>\n",
              "      <td>0.2</td>\n",
              "      <td>setosa</td>\n",
              "    </tr>\n",
              "    <tr>\n",
              "      <th>4</th>\n",
              "      <td>5.0</td>\n",
              "      <td>3.6</td>\n",
              "      <td>1.4</td>\n",
              "      <td>0.2</td>\n",
              "      <td>setosa</td>\n",
              "    </tr>\n",
              "  </tbody>\n",
              "</table>\n",
              "</div>\n",
              "      <button class=\"colab-df-convert\" onclick=\"convertToInteractive('df-05d79747-cde6-4161-872a-44cd7acb7fa4')\"\n",
              "              title=\"Convert this dataframe to an interactive table.\"\n",
              "              style=\"display:none;\">\n",
              "        \n",
              "  <svg xmlns=\"http://www.w3.org/2000/svg\" height=\"24px\"viewBox=\"0 0 24 24\"\n",
              "       width=\"24px\">\n",
              "    <path d=\"M0 0h24v24H0V0z\" fill=\"none\"/>\n",
              "    <path d=\"M18.56 5.44l.94 2.06.94-2.06 2.06-.94-2.06-.94-.94-2.06-.94 2.06-2.06.94zm-11 1L8.5 8.5l.94-2.06 2.06-.94-2.06-.94L8.5 2.5l-.94 2.06-2.06.94zm10 10l.94 2.06.94-2.06 2.06-.94-2.06-.94-.94-2.06-.94 2.06-2.06.94z\"/><path d=\"M17.41 7.96l-1.37-1.37c-.4-.4-.92-.59-1.43-.59-.52 0-1.04.2-1.43.59L10.3 9.45l-7.72 7.72c-.78.78-.78 2.05 0 2.83L4 21.41c.39.39.9.59 1.41.59.51 0 1.02-.2 1.41-.59l7.78-7.78 2.81-2.81c.8-.78.8-2.07 0-2.86zM5.41 20L4 18.59l7.72-7.72 1.47 1.35L5.41 20z\"/>\n",
              "  </svg>\n",
              "      </button>\n",
              "      \n",
              "  <style>\n",
              "    .colab-df-container {\n",
              "      display:flex;\n",
              "      flex-wrap:wrap;\n",
              "      gap: 12px;\n",
              "    }\n",
              "\n",
              "    .colab-df-convert {\n",
              "      background-color: #E8F0FE;\n",
              "      border: none;\n",
              "      border-radius: 50%;\n",
              "      cursor: pointer;\n",
              "      display: none;\n",
              "      fill: #1967D2;\n",
              "      height: 32px;\n",
              "      padding: 0 0 0 0;\n",
              "      width: 32px;\n",
              "    }\n",
              "\n",
              "    .colab-df-convert:hover {\n",
              "      background-color: #E2EBFA;\n",
              "      box-shadow: 0px 1px 2px rgba(60, 64, 67, 0.3), 0px 1px 3px 1px rgba(60, 64, 67, 0.15);\n",
              "      fill: #174EA6;\n",
              "    }\n",
              "\n",
              "    [theme=dark] .colab-df-convert {\n",
              "      background-color: #3B4455;\n",
              "      fill: #D2E3FC;\n",
              "    }\n",
              "\n",
              "    [theme=dark] .colab-df-convert:hover {\n",
              "      background-color: #434B5C;\n",
              "      box-shadow: 0px 1px 3px 1px rgba(0, 0, 0, 0.15);\n",
              "      filter: drop-shadow(0px 1px 2px rgba(0, 0, 0, 0.3));\n",
              "      fill: #FFFFFF;\n",
              "    }\n",
              "  </style>\n",
              "\n",
              "      <script>\n",
              "        const buttonEl =\n",
              "          document.querySelector('#df-05d79747-cde6-4161-872a-44cd7acb7fa4 button.colab-df-convert');\n",
              "        buttonEl.style.display =\n",
              "          google.colab.kernel.accessAllowed ? 'block' : 'none';\n",
              "\n",
              "        async function convertToInteractive(key) {\n",
              "          const element = document.querySelector('#df-05d79747-cde6-4161-872a-44cd7acb7fa4');\n",
              "          const dataTable =\n",
              "            await google.colab.kernel.invokeFunction('convertToInteractive',\n",
              "                                                     [key], {});\n",
              "          if (!dataTable) return;\n",
              "\n",
              "          const docLinkHtml = 'Like what you see? Visit the ' +\n",
              "            '<a target=\"_blank\" href=https://colab.research.google.com/notebooks/data_table.ipynb>data table notebook</a>'\n",
              "            + ' to learn more about interactive tables.';\n",
              "          element.innerHTML = '';\n",
              "          dataTable['output_type'] = 'display_data';\n",
              "          await google.colab.output.renderOutput(dataTable, element);\n",
              "          const docLink = document.createElement('div');\n",
              "          docLink.innerHTML = docLinkHtml;\n",
              "          element.appendChild(docLink);\n",
              "        }\n",
              "      </script>\n",
              "    </div>\n",
              "  </div>\n",
              "  "
            ]
          },
          "metadata": {},
          "execution_count": 21
        }
      ]
    },
    {
      "cell_type": "markdown",
      "metadata": {
        "id": "EI0PLuHOb-Iw"
      },
      "source": [
        "> ## 2) pearson 상관계수"
      ]
    },
    {
      "cell_type": "code",
      "metadata": {
        "id": "jaN_JuZwkrdH",
        "colab": {
          "base_uri": "https://localhost:8080/",
          "height": 174
        },
        "outputId": "be2e8a04-0cac-4c17-8307-93ac0c2f8c09"
      },
      "source": [
        "DF2.corr()"
      ],
      "execution_count": null,
      "outputs": [
        {
          "output_type": "execute_result",
          "data": {
            "text/plain": [
              "              sepal_length  sepal_width  petal_length  petal_width\n",
              "sepal_length      1.000000    -0.117570      0.871754     0.817941\n",
              "sepal_width      -0.117570     1.000000     -0.428440    -0.366126\n",
              "petal_length      0.871754    -0.428440      1.000000     0.962865\n",
              "petal_width       0.817941    -0.366126      0.962865     1.000000"
            ],
            "text/html": [
              "\n",
              "  <div id=\"df-3f0604e9-e605-468e-8efd-537663c29c44\">\n",
              "    <div class=\"colab-df-container\">\n",
              "      <div>\n",
              "<style scoped>\n",
              "    .dataframe tbody tr th:only-of-type {\n",
              "        vertical-align: middle;\n",
              "    }\n",
              "\n",
              "    .dataframe tbody tr th {\n",
              "        vertical-align: top;\n",
              "    }\n",
              "\n",
              "    .dataframe thead th {\n",
              "        text-align: right;\n",
              "    }\n",
              "</style>\n",
              "<table border=\"1\" class=\"dataframe\">\n",
              "  <thead>\n",
              "    <tr style=\"text-align: right;\">\n",
              "      <th></th>\n",
              "      <th>sepal_length</th>\n",
              "      <th>sepal_width</th>\n",
              "      <th>petal_length</th>\n",
              "      <th>petal_width</th>\n",
              "    </tr>\n",
              "  </thead>\n",
              "  <tbody>\n",
              "    <tr>\n",
              "      <th>sepal_length</th>\n",
              "      <td>1.000000</td>\n",
              "      <td>-0.117570</td>\n",
              "      <td>0.871754</td>\n",
              "      <td>0.817941</td>\n",
              "    </tr>\n",
              "    <tr>\n",
              "      <th>sepal_width</th>\n",
              "      <td>-0.117570</td>\n",
              "      <td>1.000000</td>\n",
              "      <td>-0.428440</td>\n",
              "      <td>-0.366126</td>\n",
              "    </tr>\n",
              "    <tr>\n",
              "      <th>petal_length</th>\n",
              "      <td>0.871754</td>\n",
              "      <td>-0.428440</td>\n",
              "      <td>1.000000</td>\n",
              "      <td>0.962865</td>\n",
              "    </tr>\n",
              "    <tr>\n",
              "      <th>petal_width</th>\n",
              "      <td>0.817941</td>\n",
              "      <td>-0.366126</td>\n",
              "      <td>0.962865</td>\n",
              "      <td>1.000000</td>\n",
              "    </tr>\n",
              "  </tbody>\n",
              "</table>\n",
              "</div>\n",
              "      <button class=\"colab-df-convert\" onclick=\"convertToInteractive('df-3f0604e9-e605-468e-8efd-537663c29c44')\"\n",
              "              title=\"Convert this dataframe to an interactive table.\"\n",
              "              style=\"display:none;\">\n",
              "        \n",
              "  <svg xmlns=\"http://www.w3.org/2000/svg\" height=\"24px\"viewBox=\"0 0 24 24\"\n",
              "       width=\"24px\">\n",
              "    <path d=\"M0 0h24v24H0V0z\" fill=\"none\"/>\n",
              "    <path d=\"M18.56 5.44l.94 2.06.94-2.06 2.06-.94-2.06-.94-.94-2.06-.94 2.06-2.06.94zm-11 1L8.5 8.5l.94-2.06 2.06-.94-2.06-.94L8.5 2.5l-.94 2.06-2.06.94zm10 10l.94 2.06.94-2.06 2.06-.94-2.06-.94-.94-2.06-.94 2.06-2.06.94z\"/><path d=\"M17.41 7.96l-1.37-1.37c-.4-.4-.92-.59-1.43-.59-.52 0-1.04.2-1.43.59L10.3 9.45l-7.72 7.72c-.78.78-.78 2.05 0 2.83L4 21.41c.39.39.9.59 1.41.59.51 0 1.02-.2 1.41-.59l7.78-7.78 2.81-2.81c.8-.78.8-2.07 0-2.86zM5.41 20L4 18.59l7.72-7.72 1.47 1.35L5.41 20z\"/>\n",
              "  </svg>\n",
              "      </button>\n",
              "      \n",
              "  <style>\n",
              "    .colab-df-container {\n",
              "      display:flex;\n",
              "      flex-wrap:wrap;\n",
              "      gap: 12px;\n",
              "    }\n",
              "\n",
              "    .colab-df-convert {\n",
              "      background-color: #E8F0FE;\n",
              "      border: none;\n",
              "      border-radius: 50%;\n",
              "      cursor: pointer;\n",
              "      display: none;\n",
              "      fill: #1967D2;\n",
              "      height: 32px;\n",
              "      padding: 0 0 0 0;\n",
              "      width: 32px;\n",
              "    }\n",
              "\n",
              "    .colab-df-convert:hover {\n",
              "      background-color: #E2EBFA;\n",
              "      box-shadow: 0px 1px 2px rgba(60, 64, 67, 0.3), 0px 1px 3px 1px rgba(60, 64, 67, 0.15);\n",
              "      fill: #174EA6;\n",
              "    }\n",
              "\n",
              "    [theme=dark] .colab-df-convert {\n",
              "      background-color: #3B4455;\n",
              "      fill: #D2E3FC;\n",
              "    }\n",
              "\n",
              "    [theme=dark] .colab-df-convert:hover {\n",
              "      background-color: #434B5C;\n",
              "      box-shadow: 0px 1px 3px 1px rgba(0, 0, 0, 0.15);\n",
              "      filter: drop-shadow(0px 1px 2px rgba(0, 0, 0, 0.3));\n",
              "      fill: #FFFFFF;\n",
              "    }\n",
              "  </style>\n",
              "\n",
              "      <script>\n",
              "        const buttonEl =\n",
              "          document.querySelector('#df-3f0604e9-e605-468e-8efd-537663c29c44 button.colab-df-convert');\n",
              "        buttonEl.style.display =\n",
              "          google.colab.kernel.accessAllowed ? 'block' : 'none';\n",
              "\n",
              "        async function convertToInteractive(key) {\n",
              "          const element = document.querySelector('#df-3f0604e9-e605-468e-8efd-537663c29c44');\n",
              "          const dataTable =\n",
              "            await google.colab.kernel.invokeFunction('convertToInteractive',\n",
              "                                                     [key], {});\n",
              "          if (!dataTable) return;\n",
              "\n",
              "          const docLinkHtml = 'Like what you see? Visit the ' +\n",
              "            '<a target=\"_blank\" href=https://colab.research.google.com/notebooks/data_table.ipynb>data table notebook</a>'\n",
              "            + ' to learn more about interactive tables.';\n",
              "          element.innerHTML = '';\n",
              "          dataTable['output_type'] = 'display_data';\n",
              "          await google.colab.output.renderOutput(dataTable, element);\n",
              "          const docLink = document.createElement('div');\n",
              "          docLink.innerHTML = docLinkHtml;\n",
              "          element.appendChild(docLink);\n",
              "        }\n",
              "      </script>\n",
              "    </div>\n",
              "  </div>\n",
              "  "
            ]
          },
          "metadata": {},
          "execution_count": 22
        }
      ]
    },
    {
      "cell_type": "markdown",
      "metadata": {
        "id": "8bYTbrRVcINp"
      },
      "source": [
        "> ## 3) Visualization"
      ]
    },
    {
      "cell_type": "code",
      "metadata": {
        "id": "Q74s-7Nwk4lP",
        "colab": {
          "base_uri": "https://localhost:8080/",
          "height": 726
        },
        "outputId": "36b283a2-8c18-43da-df4e-c2515864dcf7"
      },
      "source": [
        "import matplotlib.pyplot as plt\n",
        "import seaborn as sns\n",
        "\n",
        "sns.pairplot(hue = 'species', data = DF2)\n",
        "plt.show()"
      ],
      "execution_count": null,
      "outputs": [
        {
          "output_type": "display_data",
          "data": {
            "text/plain": [
              "<Figure size 804.75x720 with 20 Axes>"
            ],
            "image/png": "[encoded data removed]"
          },
          "metadata": {
            "needs_background": "light"
          }
        }
      ]
    },
    {
      "cell_type": "markdown",
      "metadata": {
        "id": "uXdkmYiScM_I"
      },
      "source": [
        "> ## 4) Modeling"
      ]
    },
    {
      "cell_type": "code",
      "metadata": {
        "id": "DvUL9tLLlsTa"
      },
      "source": [
        "import statsmodels.formula.api as smf\n",
        "\n",
        "Model = smf.ols(formula = 'sepal_length ~ sepal_width + petal_length + petal_width',\n",
        "                data = DF2)"
      ],
      "execution_count": null,
      "outputs": []
    },
    {
      "cell_type": "code",
      "metadata": {
        "id": "kOEhffMhoz3W"
      },
      "source": [
        "Model_mr = Model.fit()"
      ],
      "execution_count": null,
      "outputs": []
    },
    {
      "cell_type": "markdown",
      "metadata": {
        "id": "LnJpXMwtcR4p"
      },
      "source": [
        "> ## 5) Model Summary"
      ]
    },
    {
      "cell_type": "code",
      "metadata": {
        "id": "QSfXj45jmE9M",
        "colab": {
          "base_uri": "https://localhost:8080/",
          "height": 486
        },
        "outputId": "414883f8-5dd2-4bf3-978a-e5ce1e787c30"
      },
      "source": [
        "Model_mr.summary(alpha = 0.05)"
      ],
      "execution_count": null,
      "outputs": [
        {
          "output_type": "execute_result",
          "data": {
            "text/plain": [
              "<class 'statsmodels.iolib.summary.Summary'>\n",
              "\"\"\"\n",
              "                            OLS Regression Results                            \n",
              "==============================================================================\n",
              "Dep. Variable:           sepal_length   R-squared:                       0.859\n",
              "Model:                            OLS   Adj. R-squared:                  0.856\n",
              "Method:                 Least Squares   F-statistic:                     295.5\n",
              "Date:                Wed, 16 Mar 2022   Prob (F-statistic):           8.59e-62\n",
              "Time:                        01:32:47   Log-Likelihood:                -37.321\n",
              "No. Observations:                 150   AIC:                             82.64\n",
              "Df Residuals:                     146   BIC:                             94.69\n",
              "Df Model:                           3                                         \n",
              "Covariance Type:            nonrobust                                         \n",
              "================================================================================\n",
              "                   coef    std err          t      P>|t|      [0.025      0.975]\n",
              "--------------------------------------------------------------------------------\n",
              "Intercept        1.8560      0.251      7.401      0.000       1.360       2.352\n",
              "sepal_width      0.6508      0.067      9.765      0.000       0.519       0.783\n",
              "petal_length     0.7091      0.057     12.502      0.000       0.597       0.821\n",
              "petal_width     -0.5565      0.128     -4.363      0.000      -0.809      -0.304\n",
              "==============================================================================\n",
              "Omnibus:                        0.345   Durbin-Watson:                   2.060\n",
              "Prob(Omnibus):                  0.842   Jarque-Bera (JB):                0.504\n",
              "Skew:                           0.007   Prob(JB):                        0.777\n",
              "Kurtosis:                       2.716   Cond. No.                         54.7\n",
              "==============================================================================\n",
              "\n",
              "Warnings:\n",
              "[1] Standard Errors assume that the covariance matrix of the errors is correctly specified.\n",
              "\"\"\""
            ],
            "text/html": [
              "<table class=\"simpletable\">\n",
              "<caption>OLS Regression Results</caption>\n",
              "<tr>\n",
              "  <th>Dep. Variable:</th>      <td>sepal_length</td>   <th>  R-squared:         </th> <td>   0.859</td>\n",
              "</tr>\n",
              "<tr>\n",
              "  <th>Model:</th>                   <td>OLS</td>       <th>  Adj. R-squared:    </th> <td>   0.856</td>\n",
              "</tr>\n",
              "<tr>\n",
              "  <th>Method:</th>             <td>Least Squares</td>  <th>  F-statistic:       </th> <td>   295.5</td>\n",
              "</tr>\n",
              "<tr>\n",
              "  <th>Date:</th>             <td>Wed, 16 Mar 2022</td> <th>  Prob (F-statistic):</th> <td>8.59e-62</td>\n",
              "</tr>\n",
              "<tr>\n",
              "  <th>Time:</th>                 <td>01:32:47</td>     <th>  Log-Likelihood:    </th> <td> -37.321</td>\n",
              "</tr>\n",
              "<tr>\n",
              "  <th>No. Observations:</th>      <td>   150</td>      <th>  AIC:               </th> <td>   82.64</td>\n",
              "</tr>\n",
              "<tr>\n",
              "  <th>Df Residuals:</th>          <td>   146</td>      <th>  BIC:               </th> <td>   94.69</td>\n",
              "</tr>\n",
              "<tr>\n",
              "  <th>Df Model:</th>              <td>     3</td>      <th>                     </th>     <td> </td>   \n",
              "</tr>\n",
              "<tr>\n",
              "  <th>Covariance Type:</th>      <td>nonrobust</td>    <th>                     </th>     <td> </td>   \n",
              "</tr>\n",
              "</table>\n",
              "<table class=\"simpletable\">\n",
              "<tr>\n",
              "        <td></td>          <th>coef</th>     <th>std err</th>      <th>t</th>      <th>P>|t|</th>  <th>[0.025</th>    <th>0.975]</th>  \n",
              "</tr>\n",
              "<tr>\n",
              "  <th>Intercept</th>    <td>    1.8560</td> <td>    0.251</td> <td>    7.401</td> <td> 0.000</td> <td>    1.360</td> <td>    2.352</td>\n",
              "</tr>\n",
              "<tr>\n",
              "  <th>sepal_width</th>  <td>    0.6508</td> <td>    0.067</td> <td>    9.765</td> <td> 0.000</td> <td>    0.519</td> <td>    0.783</td>\n",
              "</tr>\n",
              "<tr>\n",
              "  <th>petal_length</th> <td>    0.7091</td> <td>    0.057</td> <td>   12.502</td> <td> 0.000</td> <td>    0.597</td> <td>    0.821</td>\n",
              "</tr>\n",
              "<tr>\n",
              "  <th>petal_width</th>  <td>   -0.5565</td> <td>    0.128</td> <td>   -4.363</td> <td> 0.000</td> <td>   -0.809</td> <td>   -0.304</td>\n",
              "</tr>\n",
              "</table>\n",
              "<table class=\"simpletable\">\n",
              "<tr>\n",
              "  <th>Omnibus:</th>       <td> 0.345</td> <th>  Durbin-Watson:     </th> <td>   2.060</td>\n",
              "</tr>\n",
              "<tr>\n",
              "  <th>Prob(Omnibus):</th> <td> 0.842</td> <th>  Jarque-Bera (JB):  </th> <td>   0.504</td>\n",
              "</tr>\n",
              "<tr>\n",
              "  <th>Skew:</th>          <td> 0.007</td> <th>  Prob(JB):          </th> <td>   0.777</td>\n",
              "</tr>\n",
              "<tr>\n",
              "  <th>Kurtosis:</th>      <td> 2.716</td> <th>  Cond. No.          </th> <td>    54.7</td>\n",
              "</tr>\n",
              "</table><br/><br/>Warnings:<br/>[1] Standard Errors assume that the covariance matrix of the errors is correctly specified."
            ]
          },
          "metadata": {},
          "execution_count": 26
        }
      ]
    },
    {
      "cell_type": "markdown",
      "metadata": {
        "id": "AAQ00FQlmbFA"
      },
      "source": [
        "# V. 다중공선성(Multicollinearity)\n",
        "\n",
        "* 공선성(Collinearity) : 독립변수가 다른 독립변수로 잘 예측되는 경우\n",
        " * 또는 서로 상관이 높은 경우\n",
        "* 다중공선성(Multicollinearity) : 독립변수가 다른 여러 개의 독립변수들로 잘 예측되는 경우"
      ]
    },
    {
      "cell_type": "code",
      "metadata": {
        "id": "qN8x6s_zmQn3"
      },
      "source": [
        "from statsmodels.stats.outliers_influence import variance_inflation_factor"
      ],
      "execution_count": null,
      "outputs": []
    },
    {
      "cell_type": "markdown",
      "metadata": {
        "id": "o5gTFOOFdWSr"
      },
      "source": [
        "> ## 1) 독립변수 확인"
      ]
    },
    {
      "cell_type": "code",
      "metadata": {
        "id": "RkUQL-b8nOJo",
        "colab": {
          "base_uri": "https://localhost:8080/"
        },
        "outputId": "322effd8-025c-422c-ff34-6c6bec16d94a"
      },
      "source": [
        "Model.exog_names"
      ],
      "execution_count": null,
      "outputs": [
        {
          "output_type": "execute_result",
          "data": {
            "text/plain": [
              "['Intercept', 'sepal_width', 'petal_length', 'petal_width']"
            ]
          },
          "metadata": {},
          "execution_count": 28
        }
      ]
    },
    {
      "cell_type": "markdown",
      "metadata": {
        "id": "X0mk33Smdax8"
      },
      "source": [
        "> ## 2) 다중공선성 진단\n",
        "\n",
        "* 분산팽창계수(VIF:Variance Inflation Factor)\n",
        " * 엄밀한 기준은 없으나 보통 10보다 크면 다중공선성이 있다고 판단\n",
        " * 5를 기준으로 하기도 함"
      ]
    },
    {
      "cell_type": "markdown",
      "metadata": {
        "id": "TPqenNtAXytu"
      },
      "source": [
        "* 'sepal_width'의 VIF"
      ]
    },
    {
      "cell_type": "code",
      "metadata": {
        "id": "L2U5pDeho-DQ",
        "colab": {
          "base_uri": "https://localhost:8080/"
        },
        "outputId": "d1585ca3-80c9-4812-abbe-87da1f7dd5a1"
      },
      "source": [
        "variance_inflation_factor(Model.exog, 1)"
      ],
      "execution_count": null,
      "outputs": [
        {
          "output_type": "execute_result",
          "data": {
            "text/plain": [
              "1.270814929344654"
            ]
          },
          "metadata": {},
          "execution_count": 29
        }
      ]
    },
    {
      "cell_type": "markdown",
      "metadata": {
        "id": "NOKRuDmKX_3G"
      },
      "source": [
        "* 'petal_length'의 VIF"
      ]
    },
    {
      "cell_type": "code",
      "metadata": {
        "id": "-U3Dkev6pC2A",
        "colab": {
          "base_uri": "https://localhost:8080/"
        },
        "outputId": "429074e5-924a-4f0b-b6ce-8f172dddb617"
      },
      "source": [
        "variance_inflation_factor(Model.exog, 2)"
      ],
      "execution_count": null,
      "outputs": [
        {
          "output_type": "execute_result",
          "data": {
            "text/plain": [
              "15.097572322915717"
            ]
          },
          "metadata": {},
          "execution_count": 30
        }
      ]
    },
    {
      "cell_type": "markdown",
      "metadata": {
        "id": "Dp0aC71hYA8H"
      },
      "source": [
        "* 'petal_width'의 VIF"
      ]
    },
    {
      "cell_type": "code",
      "metadata": {
        "id": "wEySkV26pGCo",
        "colab": {
          "base_uri": "https://localhost:8080/"
        },
        "outputId": "d814096a-cd10-498f-dd37-707e38feca02"
      },
      "source": [
        "variance_inflation_factor(Model.exog, 3)"
      ],
      "execution_count": null,
      "outputs": [
        {
          "output_type": "execute_result",
          "data": {
            "text/plain": [
              "14.234334971742083"
            ]
          },
          "metadata": {},
          "execution_count": 31
        }
      ]
    },
    {
      "cell_type": "markdown",
      "metadata": {
        "id": "DoGHovyCeozB"
      },
      "source": [
        "* pearson 상관계수"
      ]
    },
    {
      "cell_type": "code",
      "metadata": {
        "id": "816fjS50ejfA",
        "colab": {
          "base_uri": "https://localhost:8080/",
          "height": 174
        },
        "outputId": "4b09c842-89d7-4a94-cafd-769924b27dd5"
      },
      "source": [
        "DF2.corr()"
      ],
      "execution_count": null,
      "outputs": [
        {
          "output_type": "execute_result",
          "data": {
            "text/plain": [
              "              sepal_length  sepal_width  petal_length  petal_width\n",
              "sepal_length      1.000000    -0.117570      0.871754     0.817941\n",
              "sepal_width      -0.117570     1.000000     -0.428440    -0.366126\n",
              "petal_length      0.871754    -0.428440      1.000000     0.962865\n",
              "petal_width       0.817941    -0.366126      0.962865     1.000000"
            ],
            "text/html": [
              "\n",
              "  <div id=\"df-dcef9726-d547-48b1-9959-6ca6bb574bd5\">\n",
              "    <div class=\"colab-df-container\">\n",
              "      <div>\n",
              "<style scoped>\n",
              "    .dataframe tbody tr th:only-of-type {\n",
              "        vertical-align: middle;\n",
              "    }\n",
              "\n",
              "    .dataframe tbody tr th {\n",
              "        vertical-align: top;\n",
              "    }\n",
              "\n",
              "    .dataframe thead th {\n",
              "        text-align: right;\n",
              "    }\n",
              "</style>\n",
              "<table border=\"1\" class=\"dataframe\">\n",
              "  <thead>\n",
              "    <tr style=\"text-align: right;\">\n",
              "      <th></th>\n",
              "      <th>sepal_length</th>\n",
              "      <th>sepal_width</th>\n",
              "      <th>petal_length</th>\n",
              "      <th>petal_width</th>\n",
              "    </tr>\n",
              "  </thead>\n",
              "  <tbody>\n",
              "    <tr>\n",
              "      <th>sepal_length</th>\n",
              "      <td>1.000000</td>\n",
              "      <td>-0.117570</td>\n",
              "      <td>0.871754</td>\n",
              "      <td>0.817941</td>\n",
              "    </tr>\n",
              "    <tr>\n",
              "      <th>sepal_width</th>\n",
              "      <td>-0.117570</td>\n",
              "      <td>1.000000</td>\n",
              "      <td>-0.428440</td>\n",
              "      <td>-0.366126</td>\n",
              "    </tr>\n",
              "    <tr>\n",
              "      <th>petal_length</th>\n",
              "      <td>0.871754</td>\n",
              "      <td>-0.428440</td>\n",
              "      <td>1.000000</td>\n",
              "      <td>0.962865</td>\n",
              "    </tr>\n",
              "    <tr>\n",
              "      <th>petal_width</th>\n",
              "      <td>0.817941</td>\n",
              "      <td>-0.366126</td>\n",
              "      <td>0.962865</td>\n",
              "      <td>1.000000</td>\n",
              "    </tr>\n",
              "  </tbody>\n",
              "</table>\n",
              "</div>\n",
              "      <button class=\"colab-df-convert\" onclick=\"convertToInteractive('df-dcef9726-d547-48b1-9959-6ca6bb574bd5')\"\n",
              "              title=\"Convert this dataframe to an interactive table.\"\n",
              "              style=\"display:none;\">\n",
              "        \n",
              "  <svg xmlns=\"http://www.w3.org/2000/svg\" height=\"24px\"viewBox=\"0 0 24 24\"\n",
              "       width=\"24px\">\n",
              "    <path d=\"M0 0h24v24H0V0z\" fill=\"none\"/>\n",
              "    <path d=\"M18.56 5.44l.94 2.06.94-2.06 2.06-.94-2.06-.94-.94-2.06-.94 2.06-2.06.94zm-11 1L8.5 8.5l.94-2.06 2.06-.94-2.06-.94L8.5 2.5l-.94 2.06-2.06.94zm10 10l.94 2.06.94-2.06 2.06-.94-2.06-.94-.94-2.06-.94 2.06-2.06.94z\"/><path d=\"M17.41 7.96l-1.37-1.37c-.4-.4-.92-.59-1.43-.59-.52 0-1.04.2-1.43.59L10.3 9.45l-7.72 7.72c-.78.78-.78 2.05 0 2.83L4 21.41c.39.39.9.59 1.41.59.51 0 1.02-.2 1.41-.59l7.78-7.78 2.81-2.81c.8-.78.8-2.07 0-2.86zM5.41 20L4 18.59l7.72-7.72 1.47 1.35L5.41 20z\"/>\n",
              "  </svg>\n",
              "      </button>\n",
              "      \n",
              "  <style>\n",
              "    .colab-df-container {\n",
              "      display:flex;\n",
              "      flex-wrap:wrap;\n",
              "      gap: 12px;\n",
              "    }\n",
              "\n",
              "    .colab-df-convert {\n",
              "      background-color: #E8F0FE;\n",
              "      border: none;\n",
              "      border-radius: 50%;\n",
              "      cursor: pointer;\n",
              "      display: none;\n",
              "      fill: #1967D2;\n",
              "      height: 32px;\n",
              "      padding: 0 0 0 0;\n",
              "      width: 32px;\n",
              "    }\n",
              "\n",
              "    .colab-df-convert:hover {\n",
              "      background-color: #E2EBFA;\n",
              "      box-shadow: 0px 1px 2px rgba(60, 64, 67, 0.3), 0px 1px 3px 1px rgba(60, 64, 67, 0.15);\n",
              "      fill: #174EA6;\n",
              "    }\n",
              "\n",
              "    [theme=dark] .colab-df-convert {\n",
              "      background-color: #3B4455;\n",
              "      fill: #D2E3FC;\n",
              "    }\n",
              "\n",
              "    [theme=dark] .colab-df-convert:hover {\n",
              "      background-color: #434B5C;\n",
              "      box-shadow: 0px 1px 3px 1px rgba(0, 0, 0, 0.15);\n",
              "      filter: drop-shadow(0px 1px 2px rgba(0, 0, 0, 0.3));\n",
              "      fill: #FFFFFF;\n",
              "    }\n",
              "  </style>\n",
              "\n",
              "      <script>\n",
              "        const buttonEl =\n",
              "          document.querySelector('#df-dcef9726-d547-48b1-9959-6ca6bb574bd5 button.colab-df-convert');\n",
              "        buttonEl.style.display =\n",
              "          google.colab.kernel.accessAllowed ? 'block' : 'none';\n",
              "\n",
              "        async function convertToInteractive(key) {\n",
              "          const element = document.querySelector('#df-dcef9726-d547-48b1-9959-6ca6bb574bd5');\n",
              "          const dataTable =\n",
              "            await google.colab.kernel.invokeFunction('convertToInteractive',\n",
              "                                                     [key], {});\n",
              "          if (!dataTable) return;\n",
              "\n",
              "          const docLinkHtml = 'Like what you see? Visit the ' +\n",
              "            '<a target=\"_blank\" href=https://colab.research.google.com/notebooks/data_table.ipynb>data table notebook</a>'\n",
              "            + ' to learn more about interactive tables.';\n",
              "          element.innerHTML = '';\n",
              "          dataTable['output_type'] = 'display_data';\n",
              "          await google.colab.output.renderOutput(dataTable, element);\n",
              "          const docLink = document.createElement('div');\n",
              "          docLink.innerHTML = docLinkHtml;\n",
              "          element.appendChild(docLink);\n",
              "        }\n",
              "      </script>\n",
              "    </div>\n",
              "  </div>\n",
              "  "
            ]
          },
          "metadata": {},
          "execution_count": 32
        }
      ]
    },
    {
      "cell_type": "markdown",
      "metadata": {
        "id": "21mqbn4apN8x"
      },
      "source": [
        "> ## 3) 다중공선성 해결\n",
        "\n",
        "* VIF가 큰 독립변수를 제거 후 모델링\n",
        " * 'petal_width' 제거"
      ]
    },
    {
      "cell_type": "code",
      "metadata": {
        "id": "lue-SEXJpIQf"
      },
      "source": [
        "Model_VIF = smf.ols(formula = 'sepal_length ~ sepal_width + petal_length',\n",
        "                    data = DF2).fit()"
      ],
      "execution_count": null,
      "outputs": []
    },
    {
      "cell_type": "markdown",
      "metadata": {
        "id": "y2hXkmYxYQie"
      },
      "source": [
        "* 다중공선성 처리 후"
      ]
    },
    {
      "cell_type": "code",
      "metadata": {
        "id": "omSaCJ_dpX08",
        "colab": {
          "base_uri": "https://localhost:8080/",
          "height": 465
        },
        "outputId": "045290e5-f870-40b1-b119-2cf69fdc35f5"
      },
      "source": [
        "Model_VIF.summary()"
      ],
      "execution_count": null,
      "outputs": [
        {
          "output_type": "execute_result",
          "data": {
            "text/plain": [
              "<class 'statsmodels.iolib.summary.Summary'>\n",
              "\"\"\"\n",
              "                            OLS Regression Results                            \n",
              "==============================================================================\n",
              "Dep. Variable:           sepal_length   R-squared:                       0.840\n",
              "Model:                            OLS   Adj. R-squared:                  0.838\n",
              "Method:                 Least Squares   F-statistic:                     386.4\n",
              "Date:                Wed, 16 Mar 2022   Prob (F-statistic):           2.93e-59\n",
              "Time:                        01:32:47   Log-Likelihood:                -46.513\n",
              "No. Observations:                 150   AIC:                             99.03\n",
              "Df Residuals:                     147   BIC:                             108.1\n",
              "Df Model:                           2                                         \n",
              "Covariance Type:            nonrobust                                         \n",
              "================================================================================\n",
              "                   coef    std err          t      P>|t|      [0.025      0.975]\n",
              "--------------------------------------------------------------------------------\n",
              "Intercept        2.2491      0.248      9.070      0.000       1.759       2.739\n",
              "sepal_width      0.5955      0.069      8.590      0.000       0.459       0.733\n",
              "petal_length     0.4719      0.017     27.569      0.000       0.438       0.506\n",
              "==============================================================================\n",
              "Omnibus:                        0.164   Durbin-Watson:                   2.021\n",
              "Prob(Omnibus):                  0.921   Jarque-Bera (JB):                0.319\n",
              "Skew:                          -0.044   Prob(JB):                        0.853\n",
              "Kurtosis:                       2.792   Cond. No.                         48.3\n",
              "==============================================================================\n",
              "\n",
              "Warnings:\n",
              "[1] Standard Errors assume that the covariance matrix of the errors is correctly specified.\n",
              "\"\"\""
            ],
            "text/html": [
              "<table class=\"simpletable\">\n",
              "<caption>OLS Regression Results</caption>\n",
              "<tr>\n",
              "  <th>Dep. Variable:</th>      <td>sepal_length</td>   <th>  R-squared:         </th> <td>   0.840</td>\n",
              "</tr>\n",
              "<tr>\n",
              "  <th>Model:</th>                   <td>OLS</td>       <th>  Adj. R-squared:    </th> <td>   0.838</td>\n",
              "</tr>\n",
              "<tr>\n",
              "  <th>Method:</th>             <td>Least Squares</td>  <th>  F-statistic:       </th> <td>   386.4</td>\n",
              "</tr>\n",
              "<tr>\n",
              "  <th>Date:</th>             <td>Wed, 16 Mar 2022</td> <th>  Prob (F-statistic):</th> <td>2.93e-59</td>\n",
              "</tr>\n",
              "<tr>\n",
              "  <th>Time:</th>                 <td>01:32:47</td>     <th>  Log-Likelihood:    </th> <td> -46.513</td>\n",
              "</tr>\n",
              "<tr>\n",
              "  <th>No. Observations:</th>      <td>   150</td>      <th>  AIC:               </th> <td>   99.03</td>\n",
              "</tr>\n",
              "<tr>\n",
              "  <th>Df Residuals:</th>          <td>   147</td>      <th>  BIC:               </th> <td>   108.1</td>\n",
              "</tr>\n",
              "<tr>\n",
              "  <th>Df Model:</th>              <td>     2</td>      <th>                     </th>     <td> </td>   \n",
              "</tr>\n",
              "<tr>\n",
              "  <th>Covariance Type:</th>      <td>nonrobust</td>    <th>                     </th>     <td> </td>   \n",
              "</tr>\n",
              "</table>\n",
              "<table class=\"simpletable\">\n",
              "<tr>\n",
              "        <td></td>          <th>coef</th>     <th>std err</th>      <th>t</th>      <th>P>|t|</th>  <th>[0.025</th>    <th>0.975]</th>  \n",
              "</tr>\n",
              "<tr>\n",
              "  <th>Intercept</th>    <td>    2.2491</td> <td>    0.248</td> <td>    9.070</td> <td> 0.000</td> <td>    1.759</td> <td>    2.739</td>\n",
              "</tr>\n",
              "<tr>\n",
              "  <th>sepal_width</th>  <td>    0.5955</td> <td>    0.069</td> <td>    8.590</td> <td> 0.000</td> <td>    0.459</td> <td>    0.733</td>\n",
              "</tr>\n",
              "<tr>\n",
              "  <th>petal_length</th> <td>    0.4719</td> <td>    0.017</td> <td>   27.569</td> <td> 0.000</td> <td>    0.438</td> <td>    0.506</td>\n",
              "</tr>\n",
              "</table>\n",
              "<table class=\"simpletable\">\n",
              "<tr>\n",
              "  <th>Omnibus:</th>       <td> 0.164</td> <th>  Durbin-Watson:     </th> <td>   2.021</td>\n",
              "</tr>\n",
              "<tr>\n",
              "  <th>Prob(Omnibus):</th> <td> 0.921</td> <th>  Jarque-Bera (JB):  </th> <td>   0.319</td>\n",
              "</tr>\n",
              "<tr>\n",
              "  <th>Skew:</th>          <td>-0.044</td> <th>  Prob(JB):          </th> <td>   0.853</td>\n",
              "</tr>\n",
              "<tr>\n",
              "  <th>Kurtosis:</th>      <td> 2.792</td> <th>  Cond. No.          </th> <td>    48.3</td>\n",
              "</tr>\n",
              "</table><br/><br/>Warnings:<br/>[1] Standard Errors assume that the covariance matrix of the errors is correctly specified."
            ]
          },
          "metadata": {},
          "execution_count": 34
        }
      ]
    },
    {
      "cell_type": "markdown",
      "metadata": {
        "id": "s0tBP6ebEwrR"
      },
      "source": [
        "# \n",
        "# \n",
        "# \n",
        "# The End\n",
        "# \n",
        "# \n",
        "# "
      ]
    }
  ]
}