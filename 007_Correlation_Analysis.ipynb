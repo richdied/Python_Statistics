{
  "nbformat": 4,
  "nbformat_minor": 0,
  "metadata": {
    "colab": {
      "name": "007_Correlation_Analysis.ipynb",
      "provenance": [],
      "collapsed_sections": [],
      "include_colab_link": true
    },
    "kernelspec": {
      "name": "python3",
      "display_name": "Python 3"
    }
  },
  "cells": [
    {
      "cell_type": "markdown",
      "metadata": {
        "id": "view-in-github",
        "colab_type": "text"
      },
      "source": [
        "<a href=\"https://colab.research.google.com/github/richdied/Python_Statistics/blob/main/007_Correlation_Analysis.ipynb\" target=\"_parent\"><img src=\"https://colab.research.google.com/assets/colab-badge.svg\" alt=\"Open In Colab\"/></a>"
      ]
    },
    {
      "cell_type": "markdown",
      "metadata": {
        "id": "J9tCXeHzDr6U"
      },
      "source": [
        "# Correlation Analysis"
      ]
    },
    {
      "cell_type": "code",
      "metadata": {
        "id": "RbPgODpVzdHI"
      },
      "source": [
        "import warnings\n",
        "warnings.filterwarnings('ignore')"
      ],
      "execution_count": null,
      "outputs": []
    },
    {
      "cell_type": "markdown",
      "metadata": {
        "id": "A3-5MgeWDxFp"
      },
      "source": [
        "# Load Data\n",
        "\n",
        "* 키, 몸무게 데이터"
      ]
    },
    {
      "cell_type": "code",
      "metadata": {
        "id": "1GV1CDJifXpp",
        "colab": {
          "base_uri": "https://localhost:8080/"
        },
        "outputId": "ccbda556-17bf-427e-e645-9a29941d0894"
      },
      "source": [
        "import pandas as pd\n",
        "\n",
        "url = 'https://raw.githubusercontent.com/rusita-ai/pyData/master/PII.csv'\n",
        "DF = pd.read_csv(url)\n",
        "\n",
        "DF.info()"
      ],
      "execution_count": null,
      "outputs": [
        {
          "output_type": "stream",
          "name": "stdout",
          "text": [
            "<class 'pandas.core.frame.DataFrame'>\n",
            "RangeIndex: 17 entries, 0 to 16\n",
            "Data columns (total 8 columns):\n",
            " #   Column     Non-Null Count  Dtype  \n",
            "---  ------     --------------  -----  \n",
            " 0   Name       17 non-null     object \n",
            " 1   Gender     17 non-null     object \n",
            " 2   Age        17 non-null     int64  \n",
            " 3   Grade      17 non-null     int64  \n",
            " 4   Picture    17 non-null     object \n",
            " 5   BloodType  17 non-null     object \n",
            " 6   Height     17 non-null     float64\n",
            " 7   Weight     17 non-null     float64\n",
            "dtypes: float64(2), int64(2), object(4)\n",
            "memory usage: 1.2+ KB\n"
          ]
        }
      ]
    },
    {
      "cell_type": "code",
      "metadata": {
        "id": "kFfds8HFfxy3",
        "colab": {
          "base_uri": "https://localhost:8080/",
          "height": 206
        },
        "outputId": "15fb7208-8503-4451-add7-842e83c04a30"
      },
      "source": [
        "DF.head()"
      ],
      "execution_count": null,
      "outputs": [
        {
          "output_type": "execute_result",
          "data": {
            "text/plain": [
              "  Name Gender  Age  Grade Picture BloodType  Height  Weight\n",
              "0  송태섭     남자   21      3       무         B   179.1    63.9\n",
              "1  최유정     여자   23      1       유         A   177.1    54.9\n",
              "2  이한나     여자   20      1       무         A   167.9    50.2\n",
              "3  김소혜     여자   23      3       무         O   176.1    53.5\n",
              "4  서태웅     남자   24      4       무         B   176.1    79.8"
            ],
            "text/html": [
              "\n",
              "  <div id=\"df-96d0ac81-65d9-4be1-8285-f4a2c654f74e\">\n",
              "    <div class=\"colab-df-container\">\n",
              "      <div>\n",
              "<style scoped>\n",
              "    .dataframe tbody tr th:only-of-type {\n",
              "        vertical-align: middle;\n",
              "    }\n",
              "\n",
              "    .dataframe tbody tr th {\n",
              "        vertical-align: top;\n",
              "    }\n",
              "\n",
              "    .dataframe thead th {\n",
              "        text-align: right;\n",
              "    }\n",
              "</style>\n",
              "<table border=\"1\" class=\"dataframe\">\n",
              "  <thead>\n",
              "    <tr style=\"text-align: right;\">\n",
              "      <th></th>\n",
              "      <th>Name</th>\n",
              "      <th>Gender</th>\n",
              "      <th>Age</th>\n",
              "      <th>Grade</th>\n",
              "      <th>Picture</th>\n",
              "      <th>BloodType</th>\n",
              "      <th>Height</th>\n",
              "      <th>Weight</th>\n",
              "    </tr>\n",
              "  </thead>\n",
              "  <tbody>\n",
              "    <tr>\n",
              "      <th>0</th>\n",
              "      <td>송태섭</td>\n",
              "      <td>남자</td>\n",
              "      <td>21</td>\n",
              "      <td>3</td>\n",
              "      <td>무</td>\n",
              "      <td>B</td>\n",
              "      <td>179.1</td>\n",
              "      <td>63.9</td>\n",
              "    </tr>\n",
              "    <tr>\n",
              "      <th>1</th>\n",
              "      <td>최유정</td>\n",
              "      <td>여자</td>\n",
              "      <td>23</td>\n",
              "      <td>1</td>\n",
              "      <td>유</td>\n",
              "      <td>A</td>\n",
              "      <td>177.1</td>\n",
              "      <td>54.9</td>\n",
              "    </tr>\n",
              "    <tr>\n",
              "      <th>2</th>\n",
              "      <td>이한나</td>\n",
              "      <td>여자</td>\n",
              "      <td>20</td>\n",
              "      <td>1</td>\n",
              "      <td>무</td>\n",
              "      <td>A</td>\n",
              "      <td>167.9</td>\n",
              "      <td>50.2</td>\n",
              "    </tr>\n",
              "    <tr>\n",
              "      <th>3</th>\n",
              "      <td>김소혜</td>\n",
              "      <td>여자</td>\n",
              "      <td>23</td>\n",
              "      <td>3</td>\n",
              "      <td>무</td>\n",
              "      <td>O</td>\n",
              "      <td>176.1</td>\n",
              "      <td>53.5</td>\n",
              "    </tr>\n",
              "    <tr>\n",
              "      <th>4</th>\n",
              "      <td>서태웅</td>\n",
              "      <td>남자</td>\n",
              "      <td>24</td>\n",
              "      <td>4</td>\n",
              "      <td>무</td>\n",
              "      <td>B</td>\n",
              "      <td>176.1</td>\n",
              "      <td>79.8</td>\n",
              "    </tr>\n",
              "  </tbody>\n",
              "</table>\n",
              "</div>\n",
              "      <button class=\"colab-df-convert\" onclick=\"convertToInteractive('df-96d0ac81-65d9-4be1-8285-f4a2c654f74e')\"\n",
              "              title=\"Convert this dataframe to an interactive table.\"\n",
              "              style=\"display:none;\">\n",
              "        \n",
              "  <svg xmlns=\"http://www.w3.org/2000/svg\" height=\"24px\"viewBox=\"0 0 24 24\"\n",
              "       width=\"24px\">\n",
              "    <path d=\"M0 0h24v24H0V0z\" fill=\"none\"/>\n",
              "    <path d=\"M18.56 5.44l.94 2.06.94-2.06 2.06-.94-2.06-.94-.94-2.06-.94 2.06-2.06.94zm-11 1L8.5 8.5l.94-2.06 2.06-.94-2.06-.94L8.5 2.5l-.94 2.06-2.06.94zm10 10l.94 2.06.94-2.06 2.06-.94-2.06-.94-.94-2.06-.94 2.06-2.06.94z\"/><path d=\"M17.41 7.96l-1.37-1.37c-.4-.4-.92-.59-1.43-.59-.52 0-1.04.2-1.43.59L10.3 9.45l-7.72 7.72c-.78.78-.78 2.05 0 2.83L4 21.41c.39.39.9.59 1.41.59.51 0 1.02-.2 1.41-.59l7.78-7.78 2.81-2.81c.8-.78.8-2.07 0-2.86zM5.41 20L4 18.59l7.72-7.72 1.47 1.35L5.41 20z\"/>\n",
              "  </svg>\n",
              "      </button>\n",
              "      \n",
              "  <style>\n",
              "    .colab-df-container {\n",
              "      display:flex;\n",
              "      flex-wrap:wrap;\n",
              "      gap: 12px;\n",
              "    }\n",
              "\n",
              "    .colab-df-convert {\n",
              "      background-color: #E8F0FE;\n",
              "      border: none;\n",
              "      border-radius: 50%;\n",
              "      cursor: pointer;\n",
              "      display: none;\n",
              "      fill: #1967D2;\n",
              "      height: 32px;\n",
              "      padding: 0 0 0 0;\n",
              "      width: 32px;\n",
              "    }\n",
              "\n",
              "    .colab-df-convert:hover {\n",
              "      background-color: #E2EBFA;\n",
              "      box-shadow: 0px 1px 2px rgba(60, 64, 67, 0.3), 0px 1px 3px 1px rgba(60, 64, 67, 0.15);\n",
              "      fill: #174EA6;\n",
              "    }\n",
              "\n",
              "    [theme=dark] .colab-df-convert {\n",
              "      background-color: #3B4455;\n",
              "      fill: #D2E3FC;\n",
              "    }\n",
              "\n",
              "    [theme=dark] .colab-df-convert:hover {\n",
              "      background-color: #434B5C;\n",
              "      box-shadow: 0px 1px 3px 1px rgba(0, 0, 0, 0.15);\n",
              "      filter: drop-shadow(0px 1px 2px rgba(0, 0, 0, 0.3));\n",
              "      fill: #FFFFFF;\n",
              "    }\n",
              "  </style>\n",
              "\n",
              "      <script>\n",
              "        const buttonEl =\n",
              "          document.querySelector('#df-96d0ac81-65d9-4be1-8285-f4a2c654f74e button.colab-df-convert');\n",
              "        buttonEl.style.display =\n",
              "          google.colab.kernel.accessAllowed ? 'block' : 'none';\n",
              "\n",
              "        async function convertToInteractive(key) {\n",
              "          const element = document.querySelector('#df-96d0ac81-65d9-4be1-8285-f4a2c654f74e');\n",
              "          const dataTable =\n",
              "            await google.colab.kernel.invokeFunction('convertToInteractive',\n",
              "                                                     [key], {});\n",
              "          if (!dataTable) return;\n",
              "\n",
              "          const docLinkHtml = 'Like what you see? Visit the ' +\n",
              "            '<a target=\"_blank\" href=https://colab.research.google.com/notebooks/data_table.ipynb>data table notebook</a>'\n",
              "            + ' to learn more about interactive tables.';\n",
              "          element.innerHTML = '';\n",
              "          dataTable['output_type'] = 'display_data';\n",
              "          await google.colab.output.renderOutput(dataTable, element);\n",
              "          const docLink = document.createElement('div');\n",
              "          docLink.innerHTML = docLinkHtml;\n",
              "          element.appendChild(docLink);\n",
              "        }\n",
              "      </script>\n",
              "    </div>\n",
              "  </div>\n",
              "  "
            ]
          },
          "metadata": {},
          "execution_count": 3
        }
      ]
    },
    {
      "cell_type": "markdown",
      "metadata": {
        "id": "QPdUtsaCHLIv"
      },
      "source": [
        "# I. Covariance"
      ]
    },
    {
      "cell_type": "markdown",
      "metadata": {
        "id": "ft43BP2KIa9w"
      },
      "source": [
        "> ## 1) 공분산"
      ]
    },
    {
      "cell_type": "code",
      "metadata": {
        "id": "Iy3iOoBYHQ6f",
        "colab": {
          "base_uri": "https://localhost:8080/"
        },
        "outputId": "a58f02e8-fa2a-4cea-e6df-8362d7df4880"
      },
      "source": [
        "import numpy as np\n",
        "\n",
        "np.cov(DF.Height, DF.Weight)[0][1]"
      ],
      "execution_count": null,
      "outputs": [
        {
          "output_type": "execute_result",
          "data": {
            "text/plain": [
              "63.83036764705884"
            ]
          },
          "metadata": {},
          "execution_count": 4
        }
      ]
    },
    {
      "cell_type": "markdown",
      "metadata": {
        "id": "LtlrnY_XIeMK"
      },
      "source": [
        "> ## 2) Pearson 상관계수\n",
        "\n",
        "* 공분산을 두 변수의 표준편차의 곱으로 나눈 값"
      ]
    },
    {
      "cell_type": "code",
      "metadata": {
        "id": "qrXOZcTUHoAS",
        "colab": {
          "base_uri": "https://localhost:8080/"
        },
        "outputId": "07bf5c1a-cb27-4c91-a9b0-bee3180fcdad"
      },
      "source": [
        "np.cov(DF.Height, DF.Weight)[0][1] /    \\\n",
        "((np.std(DF.Height, ddof = 1) *         \\\n",
        "  np.std(DF.Weight, ddof = 1)))"
      ],
      "execution_count": null,
      "outputs": [
        {
          "output_type": "execute_result",
          "data": {
            "text/plain": [
              "0.6848075756314844"
            ]
          },
          "metadata": {},
          "execution_count": 5
        }
      ]
    },
    {
      "cell_type": "markdown",
      "metadata": {
        "id": "hYZpOP0B4sOl"
      },
      "source": [
        "# II. scipy"
      ]
    },
    {
      "cell_type": "code",
      "metadata": {
        "id": "xzxJlY4t4sO0"
      },
      "source": [
        "from scipy import stats"
      ],
      "execution_count": null,
      "outputs": []
    },
    {
      "cell_type": "markdown",
      "metadata": {
        "id": "zCLIUdxjLuCP"
      },
      "source": [
        "> ## 1) Karl Pearson 상관계수\n",
        "\n",
        "* 기본적으로 등간척도/비율척도 변수에만 적용가능"
      ]
    },
    {
      "cell_type": "code",
      "metadata": {
        "id": "Z7-DGpkE4sO3",
        "colab": {
          "base_uri": "https://localhost:8080/"
        },
        "outputId": "8c49307f-85ad-4ccd-e6f3-54a2c9212147"
      },
      "source": [
        "stats.pearsonr(DF.Height, DF.Weight)[0]"
      ],
      "execution_count": null,
      "outputs": [
        {
          "output_type": "execute_result",
          "data": {
            "text/plain": [
              "0.6848075756314843"
            ]
          },
          "metadata": {},
          "execution_count": 7
        }
      ]
    },
    {
      "cell_type": "markdown",
      "metadata": {
        "id": "n4b-ypwTLzvS"
      },
      "source": [
        "> ## 2) spearman 상관계수\n",
        "\n",
        "* 서열척도 변수가 포함되어도 적용가능\n",
        "* 등간척도/비율척도 두 변수 간의 관계가 비선형적 일 때 적용"
      ]
    },
    {
      "cell_type": "code",
      "metadata": {
        "id": "xA4jIa_U4sO7",
        "colab": {
          "base_uri": "https://localhost:8080/"
        },
        "outputId": "3a277c6e-f814-486c-e972-4a76e4155b44"
      },
      "source": [
        "stats.spearmanr(DF.Height, DF.Weight)[0]"
      ],
      "execution_count": null,
      "outputs": [
        {
          "output_type": "execute_result",
          "data": {
            "text/plain": [
              "0.6507060771796446"
            ]
          },
          "metadata": {},
          "execution_count": 8
        }
      ]
    },
    {
      "cell_type": "markdown",
      "metadata": {
        "id": "OUvVYJC0L6CK"
      },
      "source": [
        "> ## 3) kendall tau\n",
        "\n",
        "* spearman 상관계수와 같은 경우 적용가능\n",
        "* 표본이 작을 때 spearman 상관계수보다 신뢰할 수 있음"
      ]
    },
    {
      "cell_type": "code",
      "metadata": {
        "id": "eT9PMuWb4sO8",
        "colab": {
          "base_uri": "https://localhost:8080/"
        },
        "outputId": "735e131f-1fc4-488d-b83a-24ca11ba04d9"
      },
      "source": [
        "stats.kendalltau(DF.Height, DF.Weight)[0]"
      ],
      "execution_count": null,
      "outputs": [
        {
          "output_type": "execute_result",
          "data": {
            "text/plain": [
              "0.5278846884821402"
            ]
          },
          "metadata": {},
          "execution_count": 9
        }
      ]
    },
    {
      "cell_type": "markdown",
      "metadata": {
        "id": "QeJtOTWunq66"
      },
      "source": [
        "# III. pandas"
      ]
    },
    {
      "cell_type": "markdown",
      "metadata": {
        "id": "lIFGc0UqMRGA"
      },
      "source": [
        "> ## 1) Pearson 상관계수\n",
        "\n",
        "* method('pearson', 'spearman', 'kendall')"
      ]
    },
    {
      "cell_type": "code",
      "metadata": {
        "id": "o4_9Sss-f5Dv",
        "colab": {
          "base_uri": "https://localhost:8080/",
          "height": 174
        },
        "outputId": "5c2795ce-fd65-44d8-de2a-07d736a6b2cd"
      },
      "source": [
        "DF.corr(method = 'pearson')"
      ],
      "execution_count": null,
      "outputs": [
        {
          "output_type": "execute_result",
          "data": {
            "text/plain": [
              "             Age     Grade    Height    Weight\n",
              "Age     1.000000  0.495118  0.349681  0.452384\n",
              "Grade   0.495118  1.000000  0.312777  0.574785\n",
              "Height  0.349681  0.312777  1.000000  0.684808\n",
              "Weight  0.452384  0.574785  0.684808  1.000000"
            ],
            "text/html": [
              "\n",
              "  <div id=\"df-46b2fef2-3e82-42ad-82e4-77d67727cf2f\">\n",
              "    <div class=\"colab-df-container\">\n",
              "      <div>\n",
              "<style scoped>\n",
              "    .dataframe tbody tr th:only-of-type {\n",
              "        vertical-align: middle;\n",
              "    }\n",
              "\n",
              "    .dataframe tbody tr th {\n",
              "        vertical-align: top;\n",
              "    }\n",
              "\n",
              "    .dataframe thead th {\n",
              "        text-align: right;\n",
              "    }\n",
              "</style>\n",
              "<table border=\"1\" class=\"dataframe\">\n",
              "  <thead>\n",
              "    <tr style=\"text-align: right;\">\n",
              "      <th></th>\n",
              "      <th>Age</th>\n",
              "      <th>Grade</th>\n",
              "      <th>Height</th>\n",
              "      <th>Weight</th>\n",
              "    </tr>\n",
              "  </thead>\n",
              "  <tbody>\n",
              "    <tr>\n",
              "      <th>Age</th>\n",
              "      <td>1.000000</td>\n",
              "      <td>0.495118</td>\n",
              "      <td>0.349681</td>\n",
              "      <td>0.452384</td>\n",
              "    </tr>\n",
              "    <tr>\n",
              "      <th>Grade</th>\n",
              "      <td>0.495118</td>\n",
              "      <td>1.000000</td>\n",
              "      <td>0.312777</td>\n",
              "      <td>0.574785</td>\n",
              "    </tr>\n",
              "    <tr>\n",
              "      <th>Height</th>\n",
              "      <td>0.349681</td>\n",
              "      <td>0.312777</td>\n",
              "      <td>1.000000</td>\n",
              "      <td>0.684808</td>\n",
              "    </tr>\n",
              "    <tr>\n",
              "      <th>Weight</th>\n",
              "      <td>0.452384</td>\n",
              "      <td>0.574785</td>\n",
              "      <td>0.684808</td>\n",
              "      <td>1.000000</td>\n",
              "    </tr>\n",
              "  </tbody>\n",
              "</table>\n",
              "</div>\n",
              "      <button class=\"colab-df-convert\" onclick=\"convertToInteractive('df-46b2fef2-3e82-42ad-82e4-77d67727cf2f')\"\n",
              "              title=\"Convert this dataframe to an interactive table.\"\n",
              "              style=\"display:none;\">\n",
              "        \n",
              "  <svg xmlns=\"http://www.w3.org/2000/svg\" height=\"24px\"viewBox=\"0 0 24 24\"\n",
              "       width=\"24px\">\n",
              "    <path d=\"M0 0h24v24H0V0z\" fill=\"none\"/>\n",
              "    <path d=\"M18.56 5.44l.94 2.06.94-2.06 2.06-.94-2.06-.94-.94-2.06-.94 2.06-2.06.94zm-11 1L8.5 8.5l.94-2.06 2.06-.94-2.06-.94L8.5 2.5l-.94 2.06-2.06.94zm10 10l.94 2.06.94-2.06 2.06-.94-2.06-.94-.94-2.06-.94 2.06-2.06.94z\"/><path d=\"M17.41 7.96l-1.37-1.37c-.4-.4-.92-.59-1.43-.59-.52 0-1.04.2-1.43.59L10.3 9.45l-7.72 7.72c-.78.78-.78 2.05 0 2.83L4 21.41c.39.39.9.59 1.41.59.51 0 1.02-.2 1.41-.59l7.78-7.78 2.81-2.81c.8-.78.8-2.07 0-2.86zM5.41 20L4 18.59l7.72-7.72 1.47 1.35L5.41 20z\"/>\n",
              "  </svg>\n",
              "      </button>\n",
              "      \n",
              "  <style>\n",
              "    .colab-df-container {\n",
              "      display:flex;\n",
              "      flex-wrap:wrap;\n",
              "      gap: 12px;\n",
              "    }\n",
              "\n",
              "    .colab-df-convert {\n",
              "      background-color: #E8F0FE;\n",
              "      border: none;\n",
              "      border-radius: 50%;\n",
              "      cursor: pointer;\n",
              "      display: none;\n",
              "      fill: #1967D2;\n",
              "      height: 32px;\n",
              "      padding: 0 0 0 0;\n",
              "      width: 32px;\n",
              "    }\n",
              "\n",
              "    .colab-df-convert:hover {\n",
              "      background-color: #E2EBFA;\n",
              "      box-shadow: 0px 1px 2px rgba(60, 64, 67, 0.3), 0px 1px 3px 1px rgba(60, 64, 67, 0.15);\n",
              "      fill: #174EA6;\n",
              "    }\n",
              "\n",
              "    [theme=dark] .colab-df-convert {\n",
              "      background-color: #3B4455;\n",
              "      fill: #D2E3FC;\n",
              "    }\n",
              "\n",
              "    [theme=dark] .colab-df-convert:hover {\n",
              "      background-color: #434B5C;\n",
              "      box-shadow: 0px 1px 3px 1px rgba(0, 0, 0, 0.15);\n",
              "      filter: drop-shadow(0px 1px 2px rgba(0, 0, 0, 0.3));\n",
              "      fill: #FFFFFF;\n",
              "    }\n",
              "  </style>\n",
              "\n",
              "      <script>\n",
              "        const buttonEl =\n",
              "          document.querySelector('#df-46b2fef2-3e82-42ad-82e4-77d67727cf2f button.colab-df-convert');\n",
              "        buttonEl.style.display =\n",
              "          google.colab.kernel.accessAllowed ? 'block' : 'none';\n",
              "\n",
              "        async function convertToInteractive(key) {\n",
              "          const element = document.querySelector('#df-46b2fef2-3e82-42ad-82e4-77d67727cf2f');\n",
              "          const dataTable =\n",
              "            await google.colab.kernel.invokeFunction('convertToInteractive',\n",
              "                                                     [key], {});\n",
              "          if (!dataTable) return;\n",
              "\n",
              "          const docLinkHtml = 'Like what you see? Visit the ' +\n",
              "            '<a target=\"_blank\" href=https://colab.research.google.com/notebooks/data_table.ipynb>data table notebook</a>'\n",
              "            + ' to learn more about interactive tables.';\n",
              "          element.innerHTML = '';\n",
              "          dataTable['output_type'] = 'display_data';\n",
              "          await google.colab.output.renderOutput(dataTable, element);\n",
              "          const docLink = document.createElement('div');\n",
              "          docLink.innerHTML = docLinkHtml;\n",
              "          element.appendChild(docLink);\n",
              "        }\n",
              "      </script>\n",
              "    </div>\n",
              "  </div>\n",
              "  "
            ]
          },
          "metadata": {},
          "execution_count": 10
        }
      ]
    },
    {
      "cell_type": "markdown",
      "metadata": {
        "id": "0uEGkD9FMgDF"
      },
      "source": [
        "> ## 2) Heat Map"
      ]
    },
    {
      "cell_type": "code",
      "metadata": {
        "id": "eNOQfVcAgG1n",
        "colab": {
          "base_uri": "https://localhost:8080/",
          "height": 432
        },
        "outputId": "e40eab49-72f6-4b29-a5a8-fb256ff80a3f"
      },
      "source": [
        "import matplotlib.pyplot as plt\n",
        "import seaborn as sns\n",
        "\n",
        "plt.figure(figsize = (9, 7))\n",
        "sns.heatmap(DF.corr(), \n",
        "            cbar = True, \n",
        "            annot = True, \n",
        "            annot_kws={'size' : 20}, \n",
        "            fmt = '.2f', \n",
        "            square = True, \n",
        "            cmap = 'Blues')\n",
        "plt.show()"
      ],
      "execution_count": null,
      "outputs": [
        {
          "output_type": "display_data",
          "data": {
            "text/plain": [
              "<Figure size 648x504 with 2 Axes>"
            ],
            "image/png": "[encoded data removed]"
          },
          "metadata": {
            "needs_background": "light"
          }
        }
      ]
    },
    {
      "cell_type": "markdown",
      "metadata": {
        "id": "ApyFzyMonoKb"
      },
      "source": [
        "# IV. numpy"
      ]
    },
    {
      "cell_type": "code",
      "metadata": {
        "id": "mwf9hvoriw9w"
      },
      "source": [
        "import numpy as np"
      ],
      "execution_count": null,
      "outputs": []
    },
    {
      "cell_type": "markdown",
      "metadata": {
        "id": "A9qTDNLRMvR3"
      },
      "source": [
        "> ## 1) Pearson 상관계수"
      ]
    },
    {
      "cell_type": "code",
      "metadata": {
        "id": "tZv9eYKoiueA",
        "colab": {
          "base_uri": "https://localhost:8080/"
        },
        "outputId": "2ae6ad36-bd0d-49e0-b580-b36a740c7341"
      },
      "source": [
        "np.corrcoef(DF.Height, DF.Weight)[0][1]"
      ],
      "execution_count": null,
      "outputs": [
        {
          "output_type": "execute_result",
          "data": {
            "text/plain": [
              "0.6848075756314843"
            ]
          },
          "metadata": {},
          "execution_count": 13
        }
      ]
    },
    {
      "cell_type": "markdown",
      "metadata": {
        "id": "4quPz18lnueB"
      },
      "source": [
        "# V. Visualization"
      ]
    },
    {
      "cell_type": "code",
      "metadata": {
        "id": "xrGnAyMLglRJ",
        "colab": {
          "base_uri": "https://localhost:8080/",
          "height": 334
        },
        "outputId": "a5a5218e-bf9b-4e9c-d05d-e70a0388ab13"
      },
      "source": [
        "plt.figure(figsize = (7, 5))\n",
        "sns.scatterplot(x = DF.Height, \n",
        "                y = DF.Weight, \n",
        "                s = 100)\n",
        "plt.axvline(DF.Height.mean(), \n",
        "            color = 'r', \n",
        "            linestyle = 'dashed', \n",
        "            linewidth = 2)\n",
        "plt.axhline(DF.Weight.mean(), \n",
        "            color = 'b', \n",
        "            linestyle = 'dashed', \n",
        "            linewidth = 2)\n",
        "plt.show()"
      ],
      "execution_count": null,
      "outputs": [
        {
          "output_type": "display_data",
          "data": {
            "text/plain": [
              "<Figure size 504x360 with 1 Axes>"
            ],
            "image/png": "[encoded data removed]"
          },
          "metadata": {
            "needs_background": "light"
          }
        }
      ]
    },
    {
      "cell_type": "markdown",
      "metadata": {
        "id": "wMlUtSI6ngyZ"
      },
      "source": [
        "# \n",
        "# \n",
        "# \n",
        "# The End\n",
        "# \n",
        "# \n",
        "# "
      ]
    }
  ]
}