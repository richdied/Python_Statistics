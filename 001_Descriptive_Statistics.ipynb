{
  "nbformat": 4,
  "nbformat_minor": 0,
  "metadata": {
    "colab": {
      "name": "001_Descriptive_Statistics.ipynb",
      "provenance": [],
      "collapsed_sections": [],
      "include_colab_link": true
    },
    "kernelspec": {
      "name": "python3",
      "display_name": "Python 3"
    }
  },
  "cells": [
    {
      "cell_type": "markdown",
      "metadata": {
        "id": "view-in-github",
        "colab_type": "text"
      },
      "source": [
        "<a href=\"https://colab.research.google.com/github/richdied/Python_Statistics/blob/main/001_Descriptive_Statistics.ipynb\" target=\"_parent\"><img src=\"https://colab.research.google.com/assets/colab-badge.svg\" alt=\"Open In Colab\"/></a>"
      ]
    },
    {
      "cell_type": "markdown",
      "metadata": {
        "id": "pFwh8WavPAWd"
      },
      "source": [
        "# Descriptive Statistics"
      ]
    },
    {
      "cell_type": "code",
      "metadata": {
        "id": "RbPgODpVzdHI"
      },
      "source": [
        "import warnings\n",
        "warnings.filterwarnings('ignore')"
      ],
      "execution_count": null,
      "outputs": []
    },
    {
      "cell_type": "markdown",
      "metadata": {
        "id": "Ia6mvM5kDqfi"
      },
      "source": [
        "# Load 'tips.csv' Data"
      ]
    },
    {
      "cell_type": "code",
      "metadata": {
        "id": "wXT4FoWUKqpH"
      },
      "source": [
        "import seaborn as sns\n",
        "\n",
        "DF = sns.load_dataset('tips')"
      ],
      "execution_count": null,
      "outputs": []
    },
    {
      "cell_type": "markdown",
      "metadata": {
        "id": "13TR0pv51oim"
      },
      "source": [
        "# I. pandas"
      ]
    },
    {
      "cell_type": "markdown",
      "metadata": {
        "id": "ptSgys3eD7qr"
      },
      "source": [
        "> ## 1) DataFrame Information"
      ]
    },
    {
      "cell_type": "code",
      "metadata": {
        "id": "v2t7h6esLSd2",
        "colab": {
          "base_uri": "https://localhost:8080/"
        },
        "outputId": "b154b9d2-41f7-4485-df4d-0bdebfb756cb"
      },
      "source": [
        "DF.info()"
      ],
      "execution_count": null,
      "outputs": [
        {
          "output_type": "stream",
          "name": "stdout",
          "text": [
            "<class 'pandas.core.frame.DataFrame'>\n",
            "RangeIndex: 244 entries, 0 to 243\n",
            "Data columns (total 7 columns):\n",
            " #   Column      Non-Null Count  Dtype   \n",
            "---  ------      --------------  -----   \n",
            " 0   total_bill  244 non-null    float64 \n",
            " 1   tip         244 non-null    float64 \n",
            " 2   sex         244 non-null    category\n",
            " 3   smoker      244 non-null    category\n",
            " 4   day         244 non-null    category\n",
            " 5   time        244 non-null    category\n",
            " 6   size        244 non-null    int64   \n",
            "dtypes: category(4), float64(2), int64(1)\n",
            "memory usage: 7.4 KB\n"
          ]
        }
      ]
    },
    {
      "cell_type": "code",
      "metadata": {
        "id": "XVRccZ8TLtbn",
        "colab": {
          "base_uri": "https://localhost:8080/",
          "height": 206
        },
        "outputId": "54c45b90-1dfa-4de0-aee2-8fe8867d3f8a"
      },
      "source": [
        "DF.head()"
      ],
      "execution_count": null,
      "outputs": [
        {
          "output_type": "execute_result",
          "data": {
            "text/plain": [
              "   total_bill   tip     sex smoker  day    time  size\n",
              "0       16.99  1.01  Female     No  Sun  Dinner     2\n",
              "1       10.34  1.66    Male     No  Sun  Dinner     3\n",
              "2       21.01  3.50    Male     No  Sun  Dinner     3\n",
              "3       23.68  3.31    Male     No  Sun  Dinner     2\n",
              "4       24.59  3.61  Female     No  Sun  Dinner     4"
            ],
            "text/html": [
              "\n",
              "  <div id=\"df-72249401-a73b-433b-8228-65b4ca0736e0\">\n",
              "    <div class=\"colab-df-container\">\n",
              "      <div>\n",
              "<style scoped>\n",
              "    .dataframe tbody tr th:only-of-type {\n",
              "        vertical-align: middle;\n",
              "    }\n",
              "\n",
              "    .dataframe tbody tr th {\n",
              "        vertical-align: top;\n",
              "    }\n",
              "\n",
              "    .dataframe thead th {\n",
              "        text-align: right;\n",
              "    }\n",
              "</style>\n",
              "<table border=\"1\" class=\"dataframe\">\n",
              "  <thead>\n",
              "    <tr style=\"text-align: right;\">\n",
              "      <th></th>\n",
              "      <th>total_bill</th>\n",
              "      <th>tip</th>\n",
              "      <th>sex</th>\n",
              "      <th>smoker</th>\n",
              "      <th>day</th>\n",
              "      <th>time</th>\n",
              "      <th>size</th>\n",
              "    </tr>\n",
              "  </thead>\n",
              "  <tbody>\n",
              "    <tr>\n",
              "      <th>0</th>\n",
              "      <td>16.99</td>\n",
              "      <td>1.01</td>\n",
              "      <td>Female</td>\n",
              "      <td>No</td>\n",
              "      <td>Sun</td>\n",
              "      <td>Dinner</td>\n",
              "      <td>2</td>\n",
              "    </tr>\n",
              "    <tr>\n",
              "      <th>1</th>\n",
              "      <td>10.34</td>\n",
              "      <td>1.66</td>\n",
              "      <td>Male</td>\n",
              "      <td>No</td>\n",
              "      <td>Sun</td>\n",
              "      <td>Dinner</td>\n",
              "      <td>3</td>\n",
              "    </tr>\n",
              "    <tr>\n",
              "      <th>2</th>\n",
              "      <td>21.01</td>\n",
              "      <td>3.50</td>\n",
              "      <td>Male</td>\n",
              "      <td>No</td>\n",
              "      <td>Sun</td>\n",
              "      <td>Dinner</td>\n",
              "      <td>3</td>\n",
              "    </tr>\n",
              "    <tr>\n",
              "      <th>3</th>\n",
              "      <td>23.68</td>\n",
              "      <td>3.31</td>\n",
              "      <td>Male</td>\n",
              "      <td>No</td>\n",
              "      <td>Sun</td>\n",
              "      <td>Dinner</td>\n",
              "      <td>2</td>\n",
              "    </tr>\n",
              "    <tr>\n",
              "      <th>4</th>\n",
              "      <td>24.59</td>\n",
              "      <td>3.61</td>\n",
              "      <td>Female</td>\n",
              "      <td>No</td>\n",
              "      <td>Sun</td>\n",
              "      <td>Dinner</td>\n",
              "      <td>4</td>\n",
              "    </tr>\n",
              "  </tbody>\n",
              "</table>\n",
              "</div>\n",
              "      <button class=\"colab-df-convert\" onclick=\"convertToInteractive('df-72249401-a73b-433b-8228-65b4ca0736e0')\"\n",
              "              title=\"Convert this dataframe to an interactive table.\"\n",
              "              style=\"display:none;\">\n",
              "        \n",
              "  <svg xmlns=\"http://www.w3.org/2000/svg\" height=\"24px\"viewBox=\"0 0 24 24\"\n",
              "       width=\"24px\">\n",
              "    <path d=\"M0 0h24v24H0V0z\" fill=\"none\"/>\n",
              "    <path d=\"M18.56 5.44l.94 2.06.94-2.06 2.06-.94-2.06-.94-.94-2.06-.94 2.06-2.06.94zm-11 1L8.5 8.5l.94-2.06 2.06-.94-2.06-.94L8.5 2.5l-.94 2.06-2.06.94zm10 10l.94 2.06.94-2.06 2.06-.94-2.06-.94-.94-2.06-.94 2.06-2.06.94z\"/><path d=\"M17.41 7.96l-1.37-1.37c-.4-.4-.92-.59-1.43-.59-.52 0-1.04.2-1.43.59L10.3 9.45l-7.72 7.72c-.78.78-.78 2.05 0 2.83L4 21.41c.39.39.9.59 1.41.59.51 0 1.02-.2 1.41-.59l7.78-7.78 2.81-2.81c.8-.78.8-2.07 0-2.86zM5.41 20L4 18.59l7.72-7.72 1.47 1.35L5.41 20z\"/>\n",
              "  </svg>\n",
              "      </button>\n",
              "      \n",
              "  <style>\n",
              "    .colab-df-container {\n",
              "      display:flex;\n",
              "      flex-wrap:wrap;\n",
              "      gap: 12px;\n",
              "    }\n",
              "\n",
              "    .colab-df-convert {\n",
              "      background-color: #E8F0FE;\n",
              "      border: none;\n",
              "      border-radius: 50%;\n",
              "      cursor: pointer;\n",
              "      display: none;\n",
              "      fill: #1967D2;\n",
              "      height: 32px;\n",
              "      padding: 0 0 0 0;\n",
              "      width: 32px;\n",
              "    }\n",
              "\n",
              "    .colab-df-convert:hover {\n",
              "      background-color: #E2EBFA;\n",
              "      box-shadow: 0px 1px 2px rgba(60, 64, 67, 0.3), 0px 1px 3px 1px rgba(60, 64, 67, 0.15);\n",
              "      fill: #174EA6;\n",
              "    }\n",
              "\n",
              "    [theme=dark] .colab-df-convert {\n",
              "      background-color: #3B4455;\n",
              "      fill: #D2E3FC;\n",
              "    }\n",
              "\n",
              "    [theme=dark] .colab-df-convert:hover {\n",
              "      background-color: #434B5C;\n",
              "      box-shadow: 0px 1px 3px 1px rgba(0, 0, 0, 0.15);\n",
              "      filter: drop-shadow(0px 1px 2px rgba(0, 0, 0, 0.3));\n",
              "      fill: #FFFFFF;\n",
              "    }\n",
              "  </style>\n",
              "\n",
              "      <script>\n",
              "        const buttonEl =\n",
              "          document.querySelector('#df-72249401-a73b-433b-8228-65b4ca0736e0 button.colab-df-convert');\n",
              "        buttonEl.style.display =\n",
              "          google.colab.kernel.accessAllowed ? 'block' : 'none';\n",
              "\n",
              "        async function convertToInteractive(key) {\n",
              "          const element = document.querySelector('#df-72249401-a73b-433b-8228-65b4ca0736e0');\n",
              "          const dataTable =\n",
              "            await google.colab.kernel.invokeFunction('convertToInteractive',\n",
              "                                                     [key], {});\n",
              "          if (!dataTable) return;\n",
              "\n",
              "          const docLinkHtml = 'Like what you see? Visit the ' +\n",
              "            '<a target=\"_blank\" href=https://colab.research.google.com/notebooks/data_table.ipynb>data table notebook</a>'\n",
              "            + ' to learn more about interactive tables.';\n",
              "          element.innerHTML = '';\n",
              "          dataTable['output_type'] = 'display_data';\n",
              "          await google.colab.output.renderOutput(dataTable, element);\n",
              "          const docLink = document.createElement('div');\n",
              "          docLink.innerHTML = docLinkHtml;\n",
              "          element.appendChild(docLink);\n",
              "        }\n",
              "      </script>\n",
              "    </div>\n",
              "  </div>\n",
              "  "
            ]
          },
          "metadata": {},
          "execution_count": 4
        }
      ]
    },
    {
      "cell_type": "markdown",
      "metadata": {
        "id": "sq7-OYIIEF0S"
      },
      "source": [
        "> ## 2) .describe( )"
      ]
    },
    {
      "cell_type": "code",
      "metadata": {
        "id": "gX7UWF6WO2d4",
        "colab": {
          "base_uri": "https://localhost:8080/"
        },
        "outputId": "77973dd2-9068-4138-d7cf-eb1e78293aaf"
      },
      "source": [
        "DF.tip.describe()"
      ],
      "execution_count": null,
      "outputs": [
        {
          "output_type": "execute_result",
          "data": {
            "text/plain": [
              "count    244.000000\n",
              "mean       2.998279\n",
              "std        1.383638\n",
              "min        1.000000\n",
              "25%        2.000000\n",
              "50%        2.900000\n",
              "75%        3.562500\n",
              "max       10.000000\n",
              "Name: tip, dtype: float64"
            ]
          },
          "metadata": {},
          "execution_count": 5
        }
      ]
    },
    {
      "cell_type": "markdown",
      "metadata": {
        "id": "MzsH2XW8EMMi"
      },
      "source": [
        "> ## 3) .sum( )"
      ]
    },
    {
      "cell_type": "code",
      "metadata": {
        "id": "bB2AVYadxgHz",
        "colab": {
          "base_uri": "https://localhost:8080/"
        },
        "outputId": "e5d898ad-6d03-4a78-81f2-29b1b789d0fa"
      },
      "source": [
        "%precision 5\n",
        "\n",
        "DF.tip.sum()"
      ],
      "execution_count": null,
      "outputs": [
        {
          "output_type": "execute_result",
          "data": {
            "text/plain": [
              "731.58000"
            ]
          },
          "metadata": {},
          "execution_count": 6
        }
      ]
    },
    {
      "cell_type": "markdown",
      "metadata": {
        "id": "8tGwLk04EQUK"
      },
      "source": [
        "> ## 4) .mean( )"
      ]
    },
    {
      "cell_type": "code",
      "metadata": {
        "id": "YRMxpdNQNfH3",
        "colab": {
          "base_uri": "https://localhost:8080/"
        },
        "outputId": "af5beb11-84d8-46c4-daf2-627fa2bff960"
      },
      "source": [
        "DF.tip.mean()"
      ],
      "execution_count": null,
      "outputs": [
        {
          "output_type": "execute_result",
          "data": {
            "text/plain": [
              "2.99828"
            ]
          },
          "metadata": {},
          "execution_count": 7
        }
      ]
    },
    {
      "cell_type": "markdown",
      "metadata": {
        "id": "VrWO8H-sET1j"
      },
      "source": [
        "> ## 5) .min( )"
      ]
    },
    {
      "cell_type": "code",
      "metadata": {
        "id": "lorATnYyN3Ab",
        "colab": {
          "base_uri": "https://localhost:8080/"
        },
        "outputId": "ee8cb570-d1d8-4b74-9804-366615e2426d"
      },
      "source": [
        "DF.tip.min()"
      ],
      "execution_count": null,
      "outputs": [
        {
          "output_type": "execute_result",
          "data": {
            "text/plain": [
              "1.00000"
            ]
          },
          "metadata": {},
          "execution_count": 8
        }
      ]
    },
    {
      "cell_type": "markdown",
      "metadata": {
        "id": "6JWFzc-OEXby"
      },
      "source": [
        "> ## 6) .quantile(q = 0.25)"
      ]
    },
    {
      "cell_type": "code",
      "metadata": {
        "id": "KRjbo8WrybVn",
        "colab": {
          "base_uri": "https://localhost:8080/"
        },
        "outputId": "f9e6a9c6-8888-43ae-c23c-cd58d72b64d4"
      },
      "source": [
        "DF.tip.quantile(q = 0.25)"
      ],
      "execution_count": null,
      "outputs": [
        {
          "output_type": "execute_result",
          "data": {
            "text/plain": [
              "2.00000"
            ]
          },
          "metadata": {},
          "execution_count": 9
        }
      ]
    },
    {
      "cell_type": "markdown",
      "metadata": {
        "id": "RLO0EfMEEdzr"
      },
      "source": [
        "> ## 7) .median( )"
      ]
    },
    {
      "cell_type": "code",
      "metadata": {
        "id": "ZZ2MHOOqNlkx",
        "colab": {
          "base_uri": "https://localhost:8080/"
        },
        "outputId": "66df59c2-7443-49f4-bf7d-ab362b66be7c"
      },
      "source": [
        "DF.tip.median()"
      ],
      "execution_count": null,
      "outputs": [
        {
          "output_type": "execute_result",
          "data": {
            "text/plain": [
              "2.90000"
            ]
          },
          "metadata": {},
          "execution_count": 10
        }
      ]
    },
    {
      "cell_type": "markdown",
      "metadata": {
        "id": "wfTdzYDvEiRY"
      },
      "source": [
        "> ## 8) .quantile(q = 0.75)"
      ]
    },
    {
      "cell_type": "code",
      "metadata": {
        "id": "js-fZ6GvCLuf",
        "colab": {
          "base_uri": "https://localhost:8080/"
        },
        "outputId": "4dea7e76-8aca-42a9-cffe-f66381afd3a6"
      },
      "source": [
        "DF.tip.quantile(q = 0.75)"
      ],
      "execution_count": null,
      "outputs": [
        {
          "output_type": "execute_result",
          "data": {
            "text/plain": [
              "3.56250"
            ]
          },
          "metadata": {},
          "execution_count": 11
        }
      ]
    },
    {
      "cell_type": "markdown",
      "metadata": {
        "id": "M5RLiSLaEmra"
      },
      "source": [
        "> ## 9) .max( )"
      ]
    },
    {
      "cell_type": "code",
      "metadata": {
        "id": "zzhH0cGBN6va",
        "colab": {
          "base_uri": "https://localhost:8080/"
        },
        "outputId": "7c6e7937-5f81-4e93-888b-7e192bcfec42"
      },
      "source": [
        "DF.tip.max()"
      ],
      "execution_count": null,
      "outputs": [
        {
          "output_type": "execute_result",
          "data": {
            "text/plain": [
              "10.00000"
            ]
          },
          "metadata": {},
          "execution_count": 12
        }
      ]
    },
    {
      "cell_type": "markdown",
      "metadata": {
        "id": "T4xY5py_Epli"
      },
      "source": [
        "> ## 10) .var(ddof = 0)\n",
        "\n",
        "* Dynamic Degrees Of Freedom(default = 1)"
      ]
    },
    {
      "cell_type": "code",
      "metadata": {
        "id": "7j77UXpQOF30",
        "colab": {
          "base_uri": "https://localhost:8080/"
        },
        "outputId": "45e98ebd-6c99-43ec-dbce-aa67f4da100e"
      },
      "source": [
        "DF.tip.var(ddof = 0)"
      ],
      "execution_count": null,
      "outputs": [
        {
          "output_type": "execute_result",
          "data": {
            "text/plain": [
              "1.90661"
            ]
          },
          "metadata": {},
          "execution_count": 13
        }
      ]
    },
    {
      "cell_type": "markdown",
      "metadata": {
        "id": "R3jnNJA5EuNy"
      },
      "source": [
        "> ## 11) .std(ddof = 0)"
      ]
    },
    {
      "cell_type": "code",
      "metadata": {
        "id": "xJx8bM3LOKDO",
        "colab": {
          "base_uri": "https://localhost:8080/"
        },
        "outputId": "eeb91db7-6a95-48d3-97ab-1b1b12089fed"
      },
      "source": [
        "DF.tip.std(ddof = 0)"
      ],
      "execution_count": null,
      "outputs": [
        {
          "output_type": "execute_result",
          "data": {
            "text/plain": [
              "1.38080"
            ]
          },
          "metadata": {},
          "execution_count": 14
        }
      ]
    },
    {
      "cell_type": "markdown",
      "metadata": {
        "id": "skn9pjmO1lcu"
      },
      "source": [
        "# II. numpy"
      ]
    },
    {
      "cell_type": "code",
      "metadata": {
        "id": "HWlqzwW_zbev"
      },
      "source": [
        "import numpy as np"
      ],
      "execution_count": null,
      "outputs": []
    },
    {
      "cell_type": "markdown",
      "metadata": {
        "id": "net4z2vyFb-L"
      },
      "source": [
        "> ## 1) Casting to Array"
      ]
    },
    {
      "cell_type": "code",
      "metadata": {
        "id": "9PTsv6YfzdxH"
      },
      "source": [
        "AR = np.array(DF.tip)"
      ],
      "execution_count": null,
      "outputs": []
    },
    {
      "cell_type": "code",
      "metadata": {
        "id": "elKQA8omzmWe",
        "colab": {
          "base_uri": "https://localhost:8080/"
        },
        "outputId": "0456b32d-9e73-46de-9ec1-1ebbb51ee04a"
      },
      "source": [
        "AR[:5]"
      ],
      "execution_count": null,
      "outputs": [
        {
          "output_type": "execute_result",
          "data": {
            "text/plain": [
              "array([1.01, 1.66, 3.5 , 3.31, 3.61])"
            ]
          },
          "metadata": {},
          "execution_count": 17
        }
      ]
    },
    {
      "cell_type": "markdown",
      "metadata": {
        "id": "YP_ugxVtFj2J"
      },
      "source": [
        "> ## 2) .sum( )"
      ]
    },
    {
      "cell_type": "code",
      "metadata": {
        "id": "3K8FtZwfzo5W",
        "colab": {
          "base_uri": "https://localhost:8080/"
        },
        "outputId": "3b23c7ad-8c55-474d-dd34-2036dbdd48ae"
      },
      "source": [
        "AR.sum()"
      ],
      "execution_count": null,
      "outputs": [
        {
          "output_type": "execute_result",
          "data": {
            "text/plain": [
              "731.58000"
            ]
          },
          "metadata": {},
          "execution_count": 18
        }
      ]
    },
    {
      "cell_type": "markdown",
      "metadata": {
        "id": "REf6uqlDFoPA"
      },
      "source": [
        "> ## 3) .mean( )"
      ]
    },
    {
      "cell_type": "code",
      "metadata": {
        "id": "ucs6fuY90BfT",
        "colab": {
          "base_uri": "https://localhost:8080/"
        },
        "outputId": "22f4f413-acdc-49e7-db5c-efca31d98962"
      },
      "source": [
        "AR.mean()"
      ],
      "execution_count": null,
      "outputs": [
        {
          "output_type": "execute_result",
          "data": {
            "text/plain": [
              "2.99828"
            ]
          },
          "metadata": {},
          "execution_count": 19
        }
      ]
    },
    {
      "cell_type": "markdown",
      "metadata": {
        "id": "qZAYAT1RFq06"
      },
      "source": [
        "> ## 4) .min( )"
      ]
    },
    {
      "cell_type": "code",
      "metadata": {
        "id": "Wr5bRp6c0DYd",
        "colab": {
          "base_uri": "https://localhost:8080/"
        },
        "outputId": "028f18d8-a0ed-4692-e8c2-02428215efad"
      },
      "source": [
        "AR.min()"
      ],
      "execution_count": null,
      "outputs": [
        {
          "output_type": "execute_result",
          "data": {
            "text/plain": [
              "1.00000"
            ]
          },
          "metadata": {},
          "execution_count": 20
        }
      ]
    },
    {
      "cell_type": "markdown",
      "metadata": {
        "id": "FOlH2tDmFs4P"
      },
      "source": [
        "> ## 5) .max( )"
      ]
    },
    {
      "cell_type": "code",
      "metadata": {
        "id": "1MQNDWQu0ajQ",
        "colab": {
          "base_uri": "https://localhost:8080/"
        },
        "outputId": "d022d32a-f54d-4bf0-ec85-1e54ec189aac"
      },
      "source": [
        "AR.max()"
      ],
      "execution_count": null,
      "outputs": [
        {
          "output_type": "execute_result",
          "data": {
            "text/plain": [
              "10.00000"
            ]
          },
          "metadata": {},
          "execution_count": 21
        }
      ]
    },
    {
      "cell_type": "markdown",
      "metadata": {
        "id": "Qzu9zPaTFvrd"
      },
      "source": [
        "> ## 6) .var(ddof = 0)\n",
        "\n",
        "* default = 0"
      ]
    },
    {
      "cell_type": "code",
      "metadata": {
        "id": "Yd_RVgyP0cI-",
        "colab": {
          "base_uri": "https://localhost:8080/"
        },
        "outputId": "2f3858a5-7e5c-4689-ed12-ced804e28e05"
      },
      "source": [
        "AR.var(ddof = 0)"
      ],
      "execution_count": null,
      "outputs": [
        {
          "output_type": "execute_result",
          "data": {
            "text/plain": [
              "1.90661"
            ]
          },
          "metadata": {},
          "execution_count": 22
        }
      ]
    },
    {
      "cell_type": "markdown",
      "metadata": {
        "id": "zMLXFXMOFx1A"
      },
      "source": [
        "> ## 7) .std(ddof = 0)"
      ]
    },
    {
      "cell_type": "code",
      "metadata": {
        "id": "MsptgYdc0gDO",
        "colab": {
          "base_uri": "https://localhost:8080/"
        },
        "outputId": "0717b19d-952d-4115-aa33-65f8400b9c9b"
      },
      "source": [
        "AR.std(ddof = 0)"
      ],
      "execution_count": null,
      "outputs": [
        {
          "output_type": "execute_result",
          "data": {
            "text/plain": [
              "1.38080"
            ]
          },
          "metadata": {},
          "execution_count": 23
        }
      ]
    },
    {
      "cell_type": "markdown",
      "metadata": {
        "id": "h9ksZp201ikB"
      },
      "source": [
        "# III. scipy"
      ]
    },
    {
      "cell_type": "code",
      "metadata": {
        "id": "ogUZ3M4L0igv"
      },
      "source": [
        "import scipy as sp"
      ],
      "execution_count": null,
      "outputs": []
    },
    {
      "cell_type": "markdown",
      "metadata": {
        "id": "X8SXrn5fGBve"
      },
      "source": [
        "> ## 1) .sum( )"
      ]
    },
    {
      "cell_type": "code",
      "metadata": {
        "id": "Baqf9TCs0oVO",
        "colab": {
          "base_uri": "https://localhost:8080/"
        },
        "outputId": "e864ec63-dece-4813-e2da-819a4789470b"
      },
      "source": [
        "sp.sum(DF['tip'])"
      ],
      "execution_count": null,
      "outputs": [
        {
          "output_type": "execute_result",
          "data": {
            "text/plain": [
              "731.58000"
            ]
          },
          "metadata": {},
          "execution_count": 25
        }
      ]
    },
    {
      "cell_type": "markdown",
      "metadata": {
        "id": "zS_lgRsRGGE_"
      },
      "source": [
        "> ## 2) .mean( )"
      ]
    },
    {
      "cell_type": "code",
      "metadata": {
        "id": "zPRjinEY0wxP",
        "colab": {
          "base_uri": "https://localhost:8080/"
        },
        "outputId": "0ad01f26-5194-4729-ccfa-d5002718b46a"
      },
      "source": [
        "sp.mean(DF['tip'])"
      ],
      "execution_count": null,
      "outputs": [
        {
          "output_type": "execute_result",
          "data": {
            "text/plain": [
              "2.99828"
            ]
          },
          "metadata": {},
          "execution_count": 26
        }
      ]
    },
    {
      "cell_type": "markdown",
      "metadata": {
        "id": "84CI4S9kGJMo"
      },
      "source": [
        "> ## 3) .amin( )"
      ]
    },
    {
      "cell_type": "code",
      "metadata": {
        "id": "eQDdVaq41EbO",
        "colab": {
          "base_uri": "https://localhost:8080/"
        },
        "outputId": "1e9ba610-28a5-4bfe-b573-80837a9fa431"
      },
      "source": [
        "sp.amin(DF['tip'])"
      ],
      "execution_count": null,
      "outputs": [
        {
          "output_type": "execute_result",
          "data": {
            "text/plain": [
              "1.00000"
            ]
          },
          "metadata": {},
          "execution_count": 27
        }
      ]
    },
    {
      "cell_type": "markdown",
      "metadata": {
        "id": "L9owqcttGL_-"
      },
      "source": [
        "> ## 4) .median( )"
      ]
    },
    {
      "cell_type": "code",
      "metadata": {
        "id": "y1vfId3r0Hn-",
        "colab": {
          "base_uri": "https://localhost:8080/"
        },
        "outputId": "883cb972-752d-4dd3-db6a-77ad19574696"
      },
      "source": [
        "sp.median(DF['tip'])"
      ],
      "execution_count": null,
      "outputs": [
        {
          "output_type": "execute_result",
          "data": {
            "text/plain": [
              "2.90000"
            ]
          },
          "metadata": {},
          "execution_count": 28
        }
      ]
    },
    {
      "cell_type": "markdown",
      "metadata": {
        "id": "3wuK96qDGOLI"
      },
      "source": [
        "> ## 5) .amax( )"
      ]
    },
    {
      "cell_type": "code",
      "metadata": {
        "id": "PxtgC9zG1Gfe",
        "colab": {
          "base_uri": "https://localhost:8080/"
        },
        "outputId": "f938f236-32fb-48bf-8306-f5b8c5759545"
      },
      "source": [
        "sp.amax(DF['tip'])"
      ],
      "execution_count": null,
      "outputs": [
        {
          "output_type": "execute_result",
          "data": {
            "text/plain": [
              "10.00000"
            ]
          },
          "metadata": {},
          "execution_count": 29
        }
      ]
    },
    {
      "cell_type": "markdown",
      "metadata": {
        "id": "-oQEvq_dGQJo"
      },
      "source": [
        "> ## 6) .var(ddof = 0)\n",
        "\n",
        "* default = 0"
      ]
    },
    {
      "cell_type": "code",
      "metadata": {
        "id": "zMgIVPW51Plh",
        "colab": {
          "base_uri": "https://localhost:8080/"
        },
        "outputId": "33fb4865-1421-4b8c-a33a-7105a57a517a"
      },
      "source": [
        "sp.var(DF['tip'], ddof = 0)"
      ],
      "execution_count": null,
      "outputs": [
        {
          "output_type": "execute_result",
          "data": {
            "text/plain": [
              "1.90661"
            ]
          },
          "metadata": {},
          "execution_count": 30
        }
      ]
    },
    {
      "cell_type": "markdown",
      "metadata": {
        "id": "l2l5-VboGSJo"
      },
      "source": [
        "> ## 7) .std(ddof = 0)"
      ]
    },
    {
      "cell_type": "code",
      "metadata": {
        "id": "cjp7BRPe1TcJ",
        "colab": {
          "base_uri": "https://localhost:8080/"
        },
        "outputId": "459d29e9-1c6e-464f-9edd-08edb03e4855"
      },
      "source": [
        "sp.std(DF['tip'], ddof = 0)"
      ],
      "execution_count": null,
      "outputs": [
        {
          "output_type": "execute_result",
          "data": {
            "text/plain": [
              "1.38080"
            ]
          },
          "metadata": {},
          "execution_count": 31
        }
      ]
    },
    {
      "cell_type": "markdown",
      "metadata": {
        "id": "totbPoCN7BiN"
      },
      "source": [
        "> ## 8) .stats.mode( )\n",
        "\n",
        "* DF.tip.value_counts( )"
      ]
    },
    {
      "cell_type": "code",
      "metadata": {
        "id": "ZXuIETml6tCZ",
        "colab": {
          "base_uri": "https://localhost:8080/"
        },
        "outputId": "c8697f7f-9906-495b-b4ab-bc634de468cb"
      },
      "source": [
        "sp.stats.mode(DF['tip'])"
      ],
      "execution_count": null,
      "outputs": [
        {
          "output_type": "execute_result",
          "data": {
            "text/plain": [
              "ModeResult(mode=array([2.]), count=array([33]))"
            ]
          },
          "metadata": {},
          "execution_count": 32
        }
      ]
    },
    {
      "cell_type": "markdown",
      "metadata": {
        "id": "fb-PlucGO7EQ"
      },
      "source": [
        "# \n",
        "# \n",
        "# \n",
        "# The End\n",
        "# \n",
        "# \n",
        "# "
      ]
    }
  ]
}